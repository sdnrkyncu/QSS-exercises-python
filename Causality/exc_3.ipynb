{
 "cells": [
  {
   "cell_type": "markdown",
   "metadata": {},
   "source": [
    "## Exercise 3"
   ]
  },
  {
   "cell_type": "markdown",
   "metadata": {},
   "source": [
    "### Question 1:"
   ]
  },
  {
   "cell_type": "code",
   "execution_count": 1,
   "metadata": {},
   "outputs": [],
   "source": [
    "import pandas as pd\n",
    "import numpy as np"
   ]
  },
  {
   "cell_type": "code",
   "execution_count": 2,
   "metadata": {},
   "outputs": [
    {
     "data": {
      "text/html": [
       "<div>\n",
       "<style scoped>\n",
       "    .dataframe tbody tr th:only-of-type {\n",
       "        vertical-align: middle;\n",
       "    }\n",
       "\n",
       "    .dataframe tbody tr th {\n",
       "        vertical-align: top;\n",
       "    }\n",
       "\n",
       "    .dataframe thead th {\n",
       "        text-align: right;\n",
       "    }\n",
       "</style>\n",
       "<table border=\"1\" class=\"dataframe\">\n",
       "  <thead>\n",
       "    <tr style=\"text-align: right;\">\n",
       "      <th></th>\n",
       "      <th>year</th>\n",
       "      <th>country</th>\n",
       "      <th>leadername</th>\n",
       "      <th>age</th>\n",
       "      <th>politybefore</th>\n",
       "      <th>polityafter</th>\n",
       "      <th>interwarbefore</th>\n",
       "      <th>interwarafter</th>\n",
       "      <th>civilwarbefore</th>\n",
       "      <th>civilwarafter</th>\n",
       "      <th>result</th>\n",
       "    </tr>\n",
       "  </thead>\n",
       "  <tbody>\n",
       "    <tr>\n",
       "      <th>0</th>\n",
       "      <td>1929</td>\n",
       "      <td>Afghanistan</td>\n",
       "      <td>Habibullah Ghazi</td>\n",
       "      <td>39</td>\n",
       "      <td>-6.0</td>\n",
       "      <td>-6.000000</td>\n",
       "      <td>0</td>\n",
       "      <td>0</td>\n",
       "      <td>1</td>\n",
       "      <td>0</td>\n",
       "      <td>not wounded</td>\n",
       "    </tr>\n",
       "    <tr>\n",
       "      <th>1</th>\n",
       "      <td>1933</td>\n",
       "      <td>Afghanistan</td>\n",
       "      <td>Nadir Shah</td>\n",
       "      <td>53</td>\n",
       "      <td>-6.0</td>\n",
       "      <td>-7.333333</td>\n",
       "      <td>0</td>\n",
       "      <td>0</td>\n",
       "      <td>0</td>\n",
       "      <td>0</td>\n",
       "      <td>dies within a day after the attack</td>\n",
       "    </tr>\n",
       "    <tr>\n",
       "      <th>2</th>\n",
       "      <td>1934</td>\n",
       "      <td>Afghanistan</td>\n",
       "      <td>Hashim Khan</td>\n",
       "      <td>50</td>\n",
       "      <td>-6.0</td>\n",
       "      <td>-8.000000</td>\n",
       "      <td>0</td>\n",
       "      <td>0</td>\n",
       "      <td>0</td>\n",
       "      <td>0</td>\n",
       "      <td>survives, whether wounded unknown</td>\n",
       "    </tr>\n",
       "    <tr>\n",
       "      <th>3</th>\n",
       "      <td>1924</td>\n",
       "      <td>Albania</td>\n",
       "      <td>Zogu</td>\n",
       "      <td>29</td>\n",
       "      <td>0.0</td>\n",
       "      <td>-9.000000</td>\n",
       "      <td>0</td>\n",
       "      <td>0</td>\n",
       "      <td>0</td>\n",
       "      <td>0</td>\n",
       "      <td>wounded lightly</td>\n",
       "    </tr>\n",
       "    <tr>\n",
       "      <th>4</th>\n",
       "      <td>1931</td>\n",
       "      <td>Albania</td>\n",
       "      <td>Zogu</td>\n",
       "      <td>36</td>\n",
       "      <td>-9.0</td>\n",
       "      <td>-9.000000</td>\n",
       "      <td>0</td>\n",
       "      <td>0</td>\n",
       "      <td>0</td>\n",
       "      <td>0</td>\n",
       "      <td>not wounded</td>\n",
       "    </tr>\n",
       "  </tbody>\n",
       "</table>\n",
       "</div>"
      ],
      "text/plain": [
       "   year      country        leadername  age  politybefore  polityafter  \\\n",
       "0  1929  Afghanistan  Habibullah Ghazi   39          -6.0    -6.000000   \n",
       "1  1933  Afghanistan        Nadir Shah   53          -6.0    -7.333333   \n",
       "2  1934  Afghanistan       Hashim Khan   50          -6.0    -8.000000   \n",
       "3  1924      Albania              Zogu   29           0.0    -9.000000   \n",
       "4  1931      Albania              Zogu   36          -9.0    -9.000000   \n",
       "\n",
       "   interwarbefore  interwarafter  civilwarbefore  civilwarafter  \\\n",
       "0               0              0               1              0   \n",
       "1               0              0               0              0   \n",
       "2               0              0               0              0   \n",
       "3               0              0               0              0   \n",
       "4               0              0               0              0   \n",
       "\n",
       "                               result  \n",
       "0                         not wounded  \n",
       "1  dies within a day after the attack  \n",
       "2   survives, whether wounded unknown  \n",
       "3                     wounded lightly  \n",
       "4                         not wounded  "
      ]
     },
     "execution_count": 2,
     "metadata": {},
     "output_type": "execute_result"
    }
   ],
   "source": [
    "leaders = pd.read_csv('leaders.csv')\n",
    "leaders.head()"
   ]
  },
  {
   "cell_type": "code",
   "execution_count": 3,
   "metadata": {},
   "outputs": [
    {
     "data": {
      "text/plain": [
       "(250, 11)"
      ]
     },
     "execution_count": 3,
     "metadata": {},
     "output_type": "execute_result"
    }
   ],
   "source": [
    "leaders.shape"
   ]
  },
  {
   "cell_type": "code",
   "execution_count": 4,
   "metadata": {},
   "outputs": [
    {
     "data": {
      "text/plain": [
       "88"
      ]
     },
     "execution_count": 4,
     "metadata": {},
     "output_type": "execute_result"
    }
   ],
   "source": [
    "# How many countries experience at least one leader assassination attempt?\n",
    "len(leaders['country'].unique())"
   ]
  },
  {
   "cell_type": "code",
   "execution_count": 5,
   "metadata": {},
   "outputs": [
    {
     "data": {
      "text/plain": [
       "2.032520325203252"
      ]
     },
     "execution_count": 5,
     "metadata": {},
     "output_type": "execute_result"
    }
   ],
   "source": [
    "# What is the average number of such attempts (per year) among these countries?\n",
    "leaders.shape[0] / (max(leaders['year']) - min(leaders['year']))"
   ]
  },
  {
   "cell_type": "markdown",
   "metadata": {},
   "source": [
    "### Question 2:"
   ]
  },
  {
   "cell_type": "code",
   "execution_count": 6,
   "metadata": {},
   "outputs": [
    {
     "data": {
      "text/plain": [
       "array(['not wounded', 'dies within a day after the attack',\n",
       "       'survives, whether wounded unknown', 'wounded lightly',\n",
       "       'plot stopped', 'hospitalization but no permanent disability',\n",
       "       'dies between a day and a week', 'dies, timing unknown',\n",
       "       'survives but wounded severely', 'dies between a week and a month'],\n",
       "      dtype=object)"
      ]
     },
     "execution_count": 6,
     "metadata": {},
     "output_type": "execute_result"
    }
   ],
   "source": [
    "leaders['result'].unique()"
   ]
  },
  {
   "cell_type": "code",
   "execution_count": 7,
   "metadata": {},
   "outputs": [
    {
     "data": {
      "text/plain": [
       "0      0\n",
       "1      1\n",
       "2      0\n",
       "3      0\n",
       "4      0\n",
       "      ..\n",
       "245    0\n",
       "246    1\n",
       "247    0\n",
       "248    1\n",
       "249    1\n",
       "Name: success, Length: 250, dtype: int64"
      ]
     },
     "execution_count": 7,
     "metadata": {},
     "output_type": "execute_result"
    }
   ],
   "source": [
    "# create new binary variable named success that is equal to 1 if a leader dies from the attack \n",
    "# and 0 if the leader survives.\n",
    "dies = ['dies within a day after the attack', 'dies between a day and a week',\n",
    "       'dies, timing unknown', 'dies between a week and a month']\n",
    "\n",
    "leaders['success'] = [1 if result in dies else 0 for result in leaders['result']]\n",
    "leaders['success']"
   ]
  },
  {
   "cell_type": "code",
   "execution_count": 8,
   "metadata": {},
   "outputs": [
    {
     "data": {
      "text/plain": [
       "0.216"
      ]
     },
     "execution_count": 8,
     "metadata": {},
     "output_type": "execute_result"
    }
   ],
   "source": [
    "# What is the overall success rate of leader assassination?\n",
    "leaders['success'].sum() / len(leaders['success'])"
   ]
  },
  {
   "cell_type": "markdown",
   "metadata": {},
   "source": [
    "### Question 3:"
   ]
  },
  {
   "cell_type": "code",
   "execution_count": 9,
   "metadata": {},
   "outputs": [],
   "source": [
    "# subsetting\n",
    "successfull = leaders.loc[leaders['success'] == 1]\n",
    "failed = leaders.loc[leaders['success'] == 0]"
   ]
  },
  {
   "cell_type": "code",
   "execution_count": 10,
   "metadata": {},
   "outputs": [
    {
     "name": "stdout",
     "output_type": "stream",
     "text": [
      "successfull: -0.7037037037037037 \n",
      " failed: -1.7431972789115646\n"
     ]
    }
   ],
   "source": [
    "# Investigate whether the average polity score over three years prior to an assassination attempt\n",
    "# differs on average between successful and failed attempts.\n",
    "print(f\"successfull: {successfull['politybefore'].mean()} \\n failed: {failed['politybefore'].mean()}\" )"
   ]
  },
  {
   "cell_type": "code",
   "execution_count": 11,
   "metadata": {},
   "outputs": [
    {
     "name": "stdout",
     "output_type": "stream",
     "text": [
      "successfull: 56.46296296296296 \n",
      " failed: 52.714285714285715\n"
     ]
    }
   ],
   "source": [
    "# examine whether there is any difference in the age of targeted leaders \n",
    "# between successful and failed attempts.\n",
    "\n",
    "print(f\"successfull: {successfull['age'].mean()} \\n failed: {failed['age'].mean()}\" )"
   ]
  },
  {
   "cell_type": "markdown",
   "metadata": {},
   "source": [
    "### Question 4:"
   ]
  },
  {
   "cell_type": "code",
   "execution_count": 12,
   "metadata": {},
   "outputs": [],
   "source": [
    "leaders['warbefore'] = ''"
   ]
  },
  {
   "cell_type": "code",
   "execution_count": 13,
   "metadata": {},
   "outputs": [],
   "source": [
    "leaders.loc[(leaders['civilwarbefore'] == 1) | (leaders['interwarbefore'] == 1), 'warbefore'] = 1\n",
    "leaders.loc[(leaders['civilwarbefore'] != 1) | (leaders['interwarbefore'] != 1), 'warbefore'] = 0"
   ]
  },
  {
   "cell_type": "code",
   "execution_count": 14,
   "metadata": {},
   "outputs": [
    {
     "data": {
      "text/plain": [
       "array([0, 1], dtype=object)"
      ]
     },
     "execution_count": 14,
     "metadata": {},
     "output_type": "execute_result"
    }
   ],
   "source": [
    "leaders['warbefore'].unique()"
   ]
  },
  {
   "cell_type": "code",
   "execution_count": 15,
   "metadata": {},
   "outputs": [],
   "source": [
    "# better way:\n",
    "\n",
    "# condition = (leaders['civilwarbefore'] == 1) | (leaders['interwarbefore'] == 1)]\n",
    "# leaders['warbefore'] = np.select[condition, 1, 0]"
   ]
  },
  {
   "cell_type": "markdown",
   "metadata": {},
   "source": [
    "### Question 5:"
   ]
  },
  {
   "cell_type": "code",
   "execution_count": 16,
   "metadata": {},
   "outputs": [
    {
     "ename": "TypeError",
     "evalue": "'function' object is not subscriptable",
     "output_type": "error",
     "traceback": [
      "\u001b[0;31m---------------------------------------------------------------------------\u001b[0m",
      "\u001b[0;31mTypeError\u001b[0m                                 Traceback (most recent call last)",
      "\u001b[0;32m<ipython-input-16-e3620808fd33>\u001b[0m in \u001b[0;36m<module>\u001b[0;34m\u001b[0m\n\u001b[1;32m      2\u001b[0m \u001b[0;34m\u001b[0m\u001b[0m\n\u001b[1;32m      3\u001b[0m \u001b[0mcondition\u001b[0m \u001b[0;34m=\u001b[0m \u001b[0;34m(\u001b[0m\u001b[0mleaders\u001b[0m\u001b[0;34m[\u001b[0m\u001b[0;34m'civilwarafter'\u001b[0m\u001b[0;34m]\u001b[0m \u001b[0;34m==\u001b[0m \u001b[0;36m1\u001b[0m\u001b[0;34m)\u001b[0m \u001b[0;34m|\u001b[0m \u001b[0;34m(\u001b[0m\u001b[0mleaders\u001b[0m\u001b[0;34m[\u001b[0m\u001b[0;34m'interwarafter'\u001b[0m\u001b[0;34m]\u001b[0m \u001b[0;34m==\u001b[0m \u001b[0;36m1\u001b[0m\u001b[0;34m)\u001b[0m\u001b[0;34m\u001b[0m\u001b[0;34m\u001b[0m\u001b[0m\n\u001b[0;32m----> 4\u001b[0;31m \u001b[0mleaders\u001b[0m\u001b[0;34m[\u001b[0m\u001b[0;34m'warafter'\u001b[0m\u001b[0;34m]\u001b[0m \u001b[0;34m=\u001b[0m \u001b[0mnp\u001b[0m\u001b[0;34m.\u001b[0m\u001b[0mwhere\u001b[0m\u001b[0;34m[\u001b[0m\u001b[0mcondition\u001b[0m\u001b[0;34m,\u001b[0m \u001b[0;36m1\u001b[0m\u001b[0;34m,\u001b[0m \u001b[0;36m0\u001b[0m\u001b[0;34m]\u001b[0m\u001b[0;34m\u001b[0m\u001b[0;34m\u001b[0m\u001b[0m\n\u001b[0m",
      "\u001b[0;31mTypeError\u001b[0m: 'function' object is not subscriptable"
     ]
    }
   ],
   "source": [
    "# to be solved soon\n",
    "\n",
    "condition = (leaders['civilwarafter'] == 1) | (leaders['interwarafter'] == 1)\n",
    "leaders['warafter'] = np.where[condition, 1, 0]"
   ]
  }
 ],
 "metadata": {
  "kernelspec": {
   "display_name": "Python 3",
   "language": "python",
   "name": "python3"
  },
  "language_info": {
   "codemirror_mode": {
    "name": "ipython",
    "version": 3
   },
   "file_extension": ".py",
   "mimetype": "text/x-python",
   "name": "python",
   "nbconvert_exporter": "python",
   "pygments_lexer": "ipython3",
   "version": "3.6.9"
  }
 },
 "nbformat": 4,
 "nbformat_minor": 2
}
