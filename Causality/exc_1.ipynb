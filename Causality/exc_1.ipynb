{
 "cells": [
  {
   "cell_type": "markdown",
   "metadata": {},
   "source": [
    "## Exercise 1"
   ]
  },
  {
   "cell_type": "markdown",
   "metadata": {},
   "source": [
    "### Question 1:"
   ]
  },
  {
   "cell_type": "code",
   "execution_count": 1,
   "metadata": {},
   "outputs": [],
   "source": [
    "import pandas as pd\n",
    "import numpy as np"
   ]
  },
  {
   "cell_type": "code",
   "execution_count": 2,
   "metadata": {},
   "outputs": [],
   "source": [
    "star = pd.read_csv(\"STAR.csv\")"
   ]
  },
  {
   "cell_type": "code",
   "execution_count": 3,
   "metadata": {},
   "outputs": [
    {
     "data": {
      "text/html": [
       "<div>\n",
       "<style scoped>\n",
       "    .dataframe tbody tr th:only-of-type {\n",
       "        vertical-align: middle;\n",
       "    }\n",
       "\n",
       "    .dataframe tbody tr th {\n",
       "        vertical-align: top;\n",
       "    }\n",
       "\n",
       "    .dataframe thead th {\n",
       "        text-align: right;\n",
       "    }\n",
       "</style>\n",
       "<table border=\"1\" class=\"dataframe\">\n",
       "  <thead>\n",
       "    <tr style=\"text-align: right;\">\n",
       "      <th></th>\n",
       "      <th>race</th>\n",
       "      <th>classtype</th>\n",
       "      <th>yearssmall</th>\n",
       "      <th>hsgrad</th>\n",
       "      <th>g4math</th>\n",
       "      <th>g4reading</th>\n",
       "    </tr>\n",
       "  </thead>\n",
       "  <tbody>\n",
       "    <tr>\n",
       "      <th>0</th>\n",
       "      <td>1.0</td>\n",
       "      <td>3</td>\n",
       "      <td>0</td>\n",
       "      <td>NaN</td>\n",
       "      <td>NaN</td>\n",
       "      <td>NaN</td>\n",
       "    </tr>\n",
       "    <tr>\n",
       "      <th>1</th>\n",
       "      <td>2.0</td>\n",
       "      <td>3</td>\n",
       "      <td>0</td>\n",
       "      <td>NaN</td>\n",
       "      <td>706.0</td>\n",
       "      <td>661.0</td>\n",
       "    </tr>\n",
       "    <tr>\n",
       "      <th>2</th>\n",
       "      <td>1.0</td>\n",
       "      <td>3</td>\n",
       "      <td>0</td>\n",
       "      <td>1.0</td>\n",
       "      <td>711.0</td>\n",
       "      <td>750.0</td>\n",
       "    </tr>\n",
       "    <tr>\n",
       "      <th>3</th>\n",
       "      <td>2.0</td>\n",
       "      <td>1</td>\n",
       "      <td>4</td>\n",
       "      <td>NaN</td>\n",
       "      <td>672.0</td>\n",
       "      <td>659.0</td>\n",
       "    </tr>\n",
       "    <tr>\n",
       "      <th>4</th>\n",
       "      <td>1.0</td>\n",
       "      <td>2</td>\n",
       "      <td>0</td>\n",
       "      <td>NaN</td>\n",
       "      <td>NaN</td>\n",
       "      <td>NaN</td>\n",
       "    </tr>\n",
       "  </tbody>\n",
       "</table>\n",
       "</div>"
      ],
      "text/plain": [
       "   race  classtype  yearssmall  hsgrad  g4math  g4reading\n",
       "0   1.0          3           0     NaN     NaN        NaN\n",
       "1   2.0          3           0     NaN   706.0      661.0\n",
       "2   1.0          3           0     1.0   711.0      750.0\n",
       "3   2.0          1           4     NaN   672.0      659.0\n",
       "4   1.0          2           0     NaN     NaN        NaN"
      ]
     },
     "execution_count": 3,
     "metadata": {},
     "output_type": "execute_result"
    }
   ],
   "source": [
    "star.head()"
   ]
  },
  {
   "cell_type": "code",
   "execution_count": 4,
   "metadata": {},
   "outputs": [],
   "source": [
    "star['kinder'] = ''\n",
    "star.loc[star['classtype'] == 1, 'kinder'] = 'small'\n",
    "star.loc[star['classtype'] == 2, 'kinder'] = 'middle'\n",
    "star.loc[star['classtype'] == 3, 'kinder'] = 'large'"
   ]
  },
  {
   "cell_type": "code",
   "execution_count": 5,
   "metadata": {},
   "outputs": [
    {
     "data": {
      "text/plain": [
       "large     2231\n",
       "middle    2194\n",
       "small     1900\n",
       "Name: kinder, dtype: int64"
      ]
     },
     "execution_count": 5,
     "metadata": {},
     "output_type": "execute_result"
    }
   ],
   "source": [
    "star['kinder'].value_counts()"
   ]
  },
  {
   "cell_type": "code",
   "execution_count": 6,
   "metadata": {},
   "outputs": [],
   "source": [
    "conditions = [\n",
    "              (star['race'] == 1),\n",
    "              (star['race'] == 2), \n",
    "              (star['race'] == 3),\n",
    "]\n",
    "\n",
    "choices = ['white', 'black', 'hispanic']\n",
    "\n",
    "star['race'] = np.select(conditions, choices, 'others')"
   ]
  },
  {
   "cell_type": "code",
   "execution_count": 7,
   "metadata": {},
   "outputs": [
    {
     "data": {
      "text/plain": [
       "white       4234\n",
       "black       2058\n",
       "others        19\n",
       "hispanic      14\n",
       "Name: race, dtype: int64"
      ]
     },
     "execution_count": 7,
     "metadata": {},
     "output_type": "execute_result"
    }
   ],
   "source": [
    "star['race'].value_counts()"
   ]
  },
  {
   "cell_type": "markdown",
   "metadata": {},
   "source": [
    "### Question 2:"
   ]
  },
  {
   "cell_type": "code",
   "execution_count": 8,
   "metadata": {},
   "outputs": [],
   "source": [
    "small = star[star['kinder'] == 'small']\n",
    "middle = star[star['kinder'] == 'middle']\n",
    "large = star[star['kinder'] == 'large']"
   ]
  },
  {
   "cell_type": "code",
   "execution_count": 9,
   "metadata": {},
   "outputs": [
    {
     "data": {
      "text/plain": [
       "(709.1851351351352, 709.521377672209, 707.6334563345633)"
      ]
     },
     "execution_count": 9,
     "metadata": {},
     "output_type": "execute_result"
    }
   ],
   "source": [
    "# math scores\n",
    "small['g4math'].mean(), middle['g4math'].mean(), large['g4math'].mean()"
   ]
  },
  {
   "cell_type": "code",
   "execution_count": 10,
   "metadata": {},
   "outputs": [
    {
     "data": {
      "text/plain": [
       "(723.3911845730028, 719.88995215311, 720.7155499367889)"
      ]
     },
     "execution_count": 10,
     "metadata": {},
     "output_type": "execute_result"
    }
   ],
   "source": [
    "# reading scores\n",
    "small['g4reading'].mean(), middle['g4reading'].mean(), large['g4reading'].mean()"
   ]
  },
  {
   "cell_type": "code",
   "execution_count": 11,
   "metadata": {},
   "outputs": [
    {
     "name": "stdout",
     "output_type": "stream",
     "text": [
      "43.57317949023624\n",
      "41.02063103214946\n",
      "44.74372523897305\n"
     ]
    }
   ],
   "source": [
    "# standard deviation for math scores\n",
    "for size in [small, middle, large]:\n",
    "    print(size['g4math'].std())"
   ]
  },
  {
   "cell_type": "code",
   "execution_count": 12,
   "metadata": {},
   "outputs": [
    {
     "name": "stdout",
     "output_type": "stream",
     "text": [
      "51.54494394525024\n",
      "53.16788319193722\n",
      "52.44262686330433\n"
     ]
    }
   ],
   "source": [
    "# standard deviation for reading scores\n",
    "for size in [small, middle, large]:\n",
    "    print(size['g4reading'].std())"
   ]
  },
  {
   "cell_type": "markdown",
   "metadata": {},
   "source": [
    "### Question 3:"
   ]
  },
  {
   "cell_type": "code",
   "execution_count": 13,
   "metadata": {},
   "outputs": [
    {
     "data": {
      "text/plain": [
       "0.33    694.0\n",
       "0.66    726.0\n",
       "Name: g4math, dtype: float64"
      ]
     },
     "execution_count": 13,
     "metadata": {},
     "output_type": "execute_result"
    }
   ],
   "source": [
    "# quantile for math\n",
    "small['g4math'].quantile([0.33, 0.66])"
   ]
  },
  {
   "cell_type": "code",
   "execution_count": 14,
   "metadata": {},
   "outputs": [
    {
     "data": {
      "text/plain": [
       "0.33    696.0\n",
       "0.66    724.0\n",
       "Name: g4math, dtype: float64"
      ]
     },
     "execution_count": 14,
     "metadata": {},
     "output_type": "execute_result"
    }
   ],
   "source": [
    "middle['g4math'].quantile([0.33, 0.66])"
   ]
  },
  {
   "cell_type": "code",
   "execution_count": 15,
   "metadata": {},
   "outputs": [
    {
     "name": "stdout",
     "output_type": "stream",
     "text": [
      "0.33    705.0\n",
      "0.66    741.0\n",
      "Name: g4reading, dtype: float64\n",
      "0.33    705.0\n",
      "0.66    740.0\n",
      "Name: g4reading, dtype: float64\n"
     ]
    }
   ],
   "source": [
    "# quantile for reading\n",
    "for size in [small, middle]:\n",
    "    print(size['g4reading'].quantile([0.33, 0.66]))"
   ]
  },
  {
   "cell_type": "markdown",
   "metadata": {},
   "source": [
    "### Question 4:"
   ]
  },
  {
   "cell_type": "code",
   "execution_count": 16,
   "metadata": {},
   "outputs": [
    {
     "data": {
      "text/html": [
       "<div>\n",
       "<style scoped>\n",
       "    .dataframe tbody tr th:only-of-type {\n",
       "        vertical-align: middle;\n",
       "    }\n",
       "\n",
       "    .dataframe tbody tr th {\n",
       "        vertical-align: top;\n",
       "    }\n",
       "\n",
       "    .dataframe thead th {\n",
       "        text-align: right;\n",
       "    }\n",
       "</style>\n",
       "<table border=\"1\" class=\"dataframe\">\n",
       "  <thead>\n",
       "    <tr style=\"text-align: right;\">\n",
       "      <th>year</th>\n",
       "      <th>0</th>\n",
       "      <th>1</th>\n",
       "      <th>2</th>\n",
       "      <th>3</th>\n",
       "      <th>4</th>\n",
       "    </tr>\n",
       "    <tr>\n",
       "      <th>size</th>\n",
       "      <th></th>\n",
       "      <th></th>\n",
       "      <th></th>\n",
       "      <th></th>\n",
       "      <th></th>\n",
       "    </tr>\n",
       "  </thead>\n",
       "  <tbody>\n",
       "    <tr>\n",
       "      <th>large</th>\n",
       "      <td>1996</td>\n",
       "      <td>97</td>\n",
       "      <td>60</td>\n",
       "      <td>78</td>\n",
       "      <td>0</td>\n",
       "    </tr>\n",
       "    <tr>\n",
       "      <th>middle</th>\n",
       "      <td>1961</td>\n",
       "      <td>95</td>\n",
       "      <td>58</td>\n",
       "      <td>80</td>\n",
       "      <td>0</td>\n",
       "    </tr>\n",
       "    <tr>\n",
       "      <th>small</th>\n",
       "      <td>0</td>\n",
       "      <td>576</td>\n",
       "      <td>272</td>\n",
       "      <td>195</td>\n",
       "      <td>857</td>\n",
       "    </tr>\n",
       "  </tbody>\n",
       "</table>\n",
       "</div>"
      ],
      "text/plain": [
       "year       0    1    2    3    4\n",
       "size                            \n",
       "large   1996   97   60   78    0\n",
       "middle  1961   95   58   80    0\n",
       "small      0  576  272  195  857"
      ]
     },
     "execution_count": 16,
     "metadata": {},
     "output_type": "execute_result"
    }
   ],
   "source": [
    "# contingency table\n",
    "size_years_tab = pd.crosstab(star['kinder'], star['yearssmall'], \n",
    "                             colnames = ['year'], rownames=['size'])\n",
    "size_years_tab"
   ]
  },
  {
   "cell_type": "code",
   "execution_count": 17,
   "metadata": {},
   "outputs": [
    {
     "data": {
      "text/plain": [
       "yearssmall\n",
       "1    703.000000\n",
       "2    699.142857\n",
       "3    704.500000\n",
       "4    710.051908\n",
       "Name: g4math, dtype: float64"
      ]
     },
     "execution_count": 17,
     "metadata": {},
     "output_type": "execute_result"
    }
   ],
   "source": [
    "# Compare the average and median reading and math test scores across students \n",
    "# who spent different numbers of years in small classes\n",
    "small.groupby('yearssmall')['g4math'].mean()"
   ]
  },
  {
   "cell_type": "code",
   "execution_count": 18,
   "metadata": {},
   "outputs": [
    {
     "data": {
      "text/plain": [
       "yearssmall\n",
       "1    706.0\n",
       "2    712.0\n",
       "3    707.0\n",
       "4    711.0\n",
       "Name: g4math, dtype: float64"
      ]
     },
     "execution_count": 18,
     "metadata": {},
     "output_type": "execute_result"
    }
   ],
   "source": [
    "small.groupby('yearssmall')['g4math'].median()"
   ]
  },
  {
   "cell_type": "code",
   "execution_count": 19,
   "metadata": {},
   "outputs": [
    {
     "data": {
      "text/plain": [
       "yearssmall\n",
       "1    724.666667\n",
       "2    700.571429\n",
       "3    709.148148\n",
       "4    724.665109\n",
       "Name: g4reading, dtype: float64"
      ]
     },
     "execution_count": 19,
     "metadata": {},
     "output_type": "execute_result"
    }
   ],
   "source": [
    "small.groupby('yearssmall')['g4reading'].mean()"
   ]
  },
  {
   "cell_type": "code",
   "execution_count": 20,
   "metadata": {},
   "outputs": [
    {
     "data": {
      "text/plain": [
       "yearssmall\n",
       "1    724.5\n",
       "2    711.0\n",
       "3    707.0\n",
       "4    726.0\n",
       "Name: g4reading, dtype: float64"
      ]
     },
     "execution_count": 20,
     "metadata": {},
     "output_type": "execute_result"
    }
   ],
   "source": [
    "small.groupby('yearssmall')['g4reading'].median()"
   ]
  },
  {
   "cell_type": "markdown",
   "metadata": {},
   "source": [
    "### Question 5:"
   ]
  },
  {
   "cell_type": "code",
   "execution_count": 21,
   "metadata": {},
   "outputs": [
    {
     "data": {
      "text/plain": [
       "race\n",
       "black       694.0\n",
       "hispanic    698.0\n",
       "others      744.0\n",
       "white       713.0\n",
       "Name: g4math, dtype: float64"
      ]
     },
     "execution_count": 21,
     "metadata": {},
     "output_type": "execute_result"
    }
   ],
   "source": [
    "# compare the average reading and math test scores for between different racial groups \n",
    "# in small and middle size classes\n",
    "# between white and minority students\n",
    "small.groupby('race')['g4math'].median()"
   ]
  },
  {
   "cell_type": "code",
   "execution_count": 22,
   "metadata": {},
   "outputs": [
    {
     "data": {
      "text/plain": [
       "race\n",
       "black       695.5\n",
       "hispanic    750.0\n",
       "others        NaN\n",
       "white       726.0\n",
       "Name: g4reading, dtype: float64"
      ]
     },
     "execution_count": 22,
     "metadata": {},
     "output_type": "execute_result"
    }
   ],
   "source": [
    "middle.groupby('race')['g4reading'].median()"
   ]
  },
  {
   "cell_type": "code",
   "execution_count": 23,
   "metadata": {},
   "outputs": [
    {
     "data": {
      "text/plain": [
       "race\n",
       "black       694.0\n",
       "hispanic    698.0\n",
       "others      744.0\n",
       "white       713.0\n",
       "Name: g4math, dtype: float64"
      ]
     },
     "execution_count": 23,
     "metadata": {},
     "output_type": "execute_result"
    }
   ],
   "source": [
    "small.groupby('race')['g4math'].median()"
   ]
  },
  {
   "cell_type": "code",
   "execution_count": 24,
   "metadata": {},
   "outputs": [
    {
     "data": {
      "text/plain": [
       "race\n",
       "black       695.5\n",
       "hispanic    750.0\n",
       "others        NaN\n",
       "white       726.0\n",
       "Name: g4reading, dtype: float64"
      ]
     },
     "execution_count": 24,
     "metadata": {},
     "output_type": "execute_result"
    }
   ],
   "source": [
    "middle.groupby('race')['g4reading'].median()"
   ]
  },
  {
   "cell_type": "markdown",
   "metadata": {},
   "source": [
    "### Question 6:"
   ]
  },
  {
   "cell_type": "code",
   "execution_count": 25,
   "metadata": {},
   "outputs": [
    {
     "data": {
      "text/plain": [
       "kinder\n",
       "large     0.839286\n",
       "middle    0.825162\n",
       "small     0.835920\n",
       "Name: hsgrad, dtype: float64"
      ]
     },
     "execution_count": 25,
     "metadata": {},
     "output_type": "execute_result"
    }
   ],
   "source": [
    "# Compare high-school graduation rates across students assigned to different class types\n",
    "star.groupby('kinder')['hsgrad'].mean()"
   ]
  },
  {
   "cell_type": "code",
   "execution_count": 26,
   "metadata": {},
   "outputs": [
    {
     "data": {
      "text/plain": [
       "yearssmall\n",
       "0    0.828602\n",
       "1    0.791045\n",
       "2    0.813187\n",
       "3    0.832461\n",
       "4    0.877551\n",
       "Name: hsgrad, dtype: float64"
      ]
     },
     "execution_count": 26,
     "metadata": {},
     "output_type": "execute_result"
    }
   ],
   "source": [
    "# examine whether graduation rates differ \n",
    "# depending on the number of years spent in small classes.\n",
    "star.groupby('yearssmall')['hsgrad'].mean()"
   ]
  },
  {
   "cell_type": "code",
   "execution_count": 27,
   "metadata": {},
   "outputs": [
    {
     "data": {
      "text/plain": [
       "race\n",
       "black       0.739290\n",
       "hispanic    0.833333\n",
       "others      1.000000\n",
       "white       0.867627\n",
       "Name: hsgrad, dtype: float64"
      ]
     },
     "execution_count": 27,
     "metadata": {},
     "output_type": "execute_result"
    }
   ],
   "source": [
    "# investigate whether the STAR program has reduced the racial gap \n",
    "# between white and minority students’ graduation rates.\n",
    "star.groupby('race')['hsgrad'].mean()"
   ]
  }
 ],
 "metadata": {
  "kernelspec": {
   "display_name": "Python 3",
   "language": "python",
   "name": "python3"
  },
  "language_info": {
   "codemirror_mode": {
    "name": "ipython",
    "version": 3
   },
   "file_extension": ".py",
   "mimetype": "text/x-python",
   "name": "python",
   "nbconvert_exporter": "python",
   "pygments_lexer": "ipython3",
   "version": "3.6.9"
  }
 },
 "nbformat": 4,
 "nbformat_minor": 2
}
