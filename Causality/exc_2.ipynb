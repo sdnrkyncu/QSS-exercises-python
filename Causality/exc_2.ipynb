{
 "cells": [
  {
   "cell_type": "markdown",
   "metadata": {},
   "source": [
    "## Exercise 2"
   ]
  },
  {
   "cell_type": "markdown",
   "metadata": {},
   "source": [
    "### Question 1:"
   ]
  },
  {
   "cell_type": "code",
   "execution_count": 1,
   "metadata": {},
   "outputs": [],
   "source": [
    "import pandas as pd\n",
    "import numpy as np"
   ]
  },
  {
   "cell_type": "code",
   "execution_count": 2,
   "metadata": {},
   "outputs": [],
   "source": [
    "gay = pd.read_csv('gay.csv')"
   ]
  },
  {
   "cell_type": "code",
   "execution_count": 3,
   "metadata": {},
   "outputs": [
    {
     "data": {
      "text/html": [
       "<div>\n",
       "<style scoped>\n",
       "    .dataframe tbody tr th:only-of-type {\n",
       "        vertical-align: middle;\n",
       "    }\n",
       "\n",
       "    .dataframe tbody tr th {\n",
       "        vertical-align: top;\n",
       "    }\n",
       "\n",
       "    .dataframe thead th {\n",
       "        text-align: right;\n",
       "    }\n",
       "</style>\n",
       "<table border=\"1\" class=\"dataframe\">\n",
       "  <thead>\n",
       "    <tr style=\"text-align: right;\">\n",
       "      <th></th>\n",
       "      <th>study</th>\n",
       "      <th>treatment</th>\n",
       "      <th>wave</th>\n",
       "      <th>ssm</th>\n",
       "    </tr>\n",
       "  </thead>\n",
       "  <tbody>\n",
       "    <tr>\n",
       "      <th>0</th>\n",
       "      <td>1</td>\n",
       "      <td>No Contact</td>\n",
       "      <td>3</td>\n",
       "      <td>5</td>\n",
       "    </tr>\n",
       "    <tr>\n",
       "      <th>1</th>\n",
       "      <td>1</td>\n",
       "      <td>No Contact</td>\n",
       "      <td>4</td>\n",
       "      <td>5</td>\n",
       "    </tr>\n",
       "    <tr>\n",
       "      <th>2</th>\n",
       "      <td>1</td>\n",
       "      <td>No Contact</td>\n",
       "      <td>1</td>\n",
       "      <td>5</td>\n",
       "    </tr>\n",
       "    <tr>\n",
       "      <th>3</th>\n",
       "      <td>1</td>\n",
       "      <td>No Contact</td>\n",
       "      <td>6</td>\n",
       "      <td>5</td>\n",
       "    </tr>\n",
       "    <tr>\n",
       "      <th>4</th>\n",
       "      <td>1</td>\n",
       "      <td>No Contact</td>\n",
       "      <td>2</td>\n",
       "      <td>5</td>\n",
       "    </tr>\n",
       "  </tbody>\n",
       "</table>\n",
       "</div>"
      ],
      "text/plain": [
       "   study   treatment  wave  ssm\n",
       "0      1  No Contact     3    5\n",
       "1      1  No Contact     4    5\n",
       "2      1  No Contact     1    5\n",
       "3      1  No Contact     6    5\n",
       "4      1  No Contact     2    5"
      ]
     },
     "execution_count": 3,
     "metadata": {},
     "output_type": "execute_result"
    }
   ],
   "source": [
    "gay.head()"
   ]
  },
  {
   "cell_type": "code",
   "execution_count": 4,
   "metadata": {},
   "outputs": [],
   "source": [
    "# In order to examine if randomization was proper, we are going to see if the mean ssm values grouped by treatment were\n",
    "# close to each other, for the particular wave and study subsets. We start from the latter:\n",
    "\n",
    "wave1 = gay.loc[(gay['study'] == 1) & (gay['wave'] == 1)]\n",
    "# wave1 = gay.query(\"study == 1 & wave == 1\") gives the same result\n",
    "\n",
    "# no need to check 2nd wave as the first wave consists of the interview before the canvassing treatment occurs."
   ]
  },
  {
   "cell_type": "code",
   "execution_count": 5,
   "metadata": {},
   "outputs": [
    {
     "data": {
      "text/plain": [
       "treatment\n",
       "No Contact                                        3.042764\n",
       "Recycling Script by Gay Canvasser                 3.130975\n",
       "Recycling Script by Straight Canvasser            3.013474\n",
       "Same-Sex Marriage Script by Gay Canvasser         3.025195\n",
       "Same-Sex Marriage Script by Straight Canvasser    3.099710\n",
       "Name: ssm, dtype: float64"
      ]
     },
     "execution_count": 5,
     "metadata": {},
     "output_type": "execute_result"
    }
   ],
   "source": [
    "wave1m = wave1.groupby(wave1['treatment'])['ssm'].mean()\n",
    "wave1m"
   ]
  },
  {
   "cell_type": "markdown",
   "metadata": {},
   "source": [
    "### Question 2:"
   ]
  },
  {
   "cell_type": "code",
   "execution_count": 6,
   "metadata": {},
   "outputs": [
    {
     "data": {
      "text/plain": [
       "treatment\n",
       "No Contact                                        3.039615\n",
       "Recycling Script by Gay Canvasser                 3.107447\n",
       "Recycling Script by Straight Canvasser            3.004278\n",
       "Same-Sex Marriage Script by Gay Canvasser         3.139489\n",
       "Same-Sex Marriage Script by Straight Canvasser    3.161863\n",
       "Name: ssm, dtype: float64"
      ]
     },
     "execution_count": 6,
     "metadata": {},
     "output_type": "execute_result"
    }
   ],
   "source": [
    "# wave 2\n",
    "wave2 = gay.loc[(gay['study'] == 1) & (gay['wave'] == 2)]\n",
    "wave2m = wave2.groupby(wave2['treatment'])['ssm'].mean()\n",
    "wave2m"
   ]
  },
  {
   "cell_type": "code",
   "execution_count": 7,
   "metadata": {},
   "outputs": [
    {
     "data": {
      "text/plain": [
       "3.1394891944990175"
      ]
     },
     "execution_count": 7,
     "metadata": {},
     "output_type": "execute_result"
    }
   ],
   "source": [
    "wave2m[3]"
   ]
  },
  {
   "cell_type": "code",
   "execution_count": 8,
   "metadata": {},
   "outputs": [],
   "source": [
    "DID_gay1 = (wave2m[3] - wave1m[3]) - (wave2m[0] - wave1m[0])\n",
    "DID_straight1 = (wave2m[4] - wave1m[4]) - (wave2m[0] - wave1m[0])"
   ]
  },
  {
   "cell_type": "code",
   "execution_count": 9,
   "metadata": {},
   "outputs": [
    {
     "data": {
      "text/plain": [
       "0.052140768330120046"
      ]
     },
     "execution_count": 9,
     "metadata": {},
     "output_type": "execute_result"
    }
   ],
   "source": [
    "DID_gay1 - DID_straight1"
   ]
  },
  {
   "cell_type": "markdown",
   "metadata": {},
   "source": [
    "### Question 3:"
   ]
  },
  {
   "cell_type": "code",
   "execution_count": 10,
   "metadata": {},
   "outputs": [],
   "source": [
    "DID_gay2 = (wave2m[1] - wave1m[1]) - (wave2m[0] - wave1m[0])\n",
    "DID_straight2 = (wave2m[2] - wave1m[2]) - (wave2m[0] - wave1m[0])"
   ]
  },
  {
   "cell_type": "code",
   "execution_count": 11,
   "metadata": {},
   "outputs": [
    {
     "data": {
      "text/plain": [
       "-0.014331915052665067"
      ]
     },
     "execution_count": 11,
     "metadata": {},
     "output_type": "execute_result"
    }
   ],
   "source": [
    "DID_gay2 - DID_straight2"
   ]
  },
  {
   "cell_type": "markdown",
   "metadata": {},
   "source": [
    "### Question 4:"
   ]
  },
  {
   "cell_type": "code",
   "execution_count": 12,
   "metadata": {},
   "outputs": [],
   "source": [
    "# subsetting according to waves\n",
    "wave3 = gay.loc[(gay['study'] == 1) & (gay['wave'] == 3)]\n",
    "wave4 = gay.loc[(gay['study'] == 1) & (gay['wave'] == 4)]\n",
    "wave5 = gay.loc[(gay['study'] == 1) & (gay['wave'] == 5)]\n",
    "wave6 = gay.loc[(gay['study'] == 1) & (gay['wave'] == 6)]\n",
    "wave7 = gay.loc[(gay['study'] == 1) & (gay['wave'] == 7)]"
   ]
  },
  {
   "cell_type": "code",
   "execution_count": 13,
   "metadata": {},
   "outputs": [],
   "source": [
    "# computing means\n",
    "wave3m = wave3.groupby(wave3['treatment'])['ssm'].mean()\n",
    "wave4m = wave4.groupby(wave4['treatment'])['ssm'].mean()\n",
    "wave5m = wave5.groupby(wave5['treatment'])['ssm'].mean()\n",
    "wave6m = wave6.groupby(wave6['treatment'])['ssm'].mean()\n",
    "wave7m = wave7.groupby(wave7['treatment'])['ssm'].mean()"
   ]
  },
  {
   "cell_type": "code",
   "execution_count": 14,
   "metadata": {},
   "outputs": [],
   "source": [
    "DID_gay3 = (wave3m[1] - wave1m[1]) - (wave3m[0] - wave1m[0])\n",
    "DID_straight3 = (wave3m[2] - wave1m[2]) - (wave3m[0] - wave1m[0])\n",
    "\n",
    "DID_gay4 = (wave4m[1] - wave1m[1]) - (wave4m[0] - wave1m[0])\n",
    "DID_straight4 = (wave4m[2] - wave1m[2]) - (wave4m[0] - wave1m[0])\n",
    "\n",
    "DID_gay5 = (wave5m[1] - wave1m[1]) - (wave5m[0] - wave1m[0])\n",
    "DID_straight5 = (wave5m[2] - wave1m[2]) - (wave5m[0] - wave1m[0])\n",
    "\n",
    "DID_gay6 = (wave6m[1] - wave1m[1]) - (wave6m[0] - wave1m[0])\n",
    "DID_straight6 = (wave6m[2] - wave1m[2]) - (wave6m[0] - wave1m[0])\n",
    "\n",
    "DID_gay7 = (wave7m[1] - wave1m[1]) - (wave7m[0] - wave1m[0])\n",
    "DID_straight7 = (wave7m[2] - wave1m[2]) - (wave7m[0] - wave1m[0])"
   ]
  },
  {
   "cell_type": "code",
   "execution_count": 15,
   "metadata": {},
   "outputs": [
    {
     "name": "stdout",
     "output_type": "stream",
     "text": [
      "3: 0.05701985394850961 \n",
      " 4: -0.004872882850463611 \n",
      " 5: 0.06623302278801013 \n",
      " 6: 0.048127265127416496 \n",
      " 7: 0.14847447915051948\n"
     ]
    }
   ],
   "source": [
    "print(\n",
    "'3:', DID_gay3 - DID_straight3, '\\n',\n",
    "'4:', DID_gay4 - DID_straight4, '\\n',\n",
    "'5:', DID_gay5 - DID_straight5, '\\n',\n",
    "'6:', DID_gay6 - DID_straight6, '\\n',\n",
    "'7:', DID_gay7 - DID_straight7\n",
    ")"
   ]
  },
  {
   "cell_type": "markdown",
   "metadata": {},
   "source": [
    "### Question 5:"
   ]
  },
  {
   "cell_type": "code",
   "execution_count": 16,
   "metadata": {},
   "outputs": [],
   "source": [
    "study2_wave1 = gay.loc[(gay['study'] == 2) & (gay['wave'] == 1)]"
   ]
  },
  {
   "cell_type": "code",
   "execution_count": 17,
   "metadata": {},
   "outputs": [
    {
     "data": {
      "text/plain": [
       "treatment\n",
       "No Contact                                   2.970075\n",
       "Same-Sex Marriage Script by Gay Canvasser    2.971729\n",
       "Name: ssm, dtype: float64"
      ]
     },
     "execution_count": 17,
     "metadata": {},
     "output_type": "execute_result"
    }
   ],
   "source": [
    "study2_wave1m = study2_wave1.groupby(study2_wave1['treatment'])['ssm'].mean()\n",
    "study2_wave1m"
   ]
  },
  {
   "cell_type": "markdown",
   "metadata": {},
   "source": [
    "### Question 6:"
   ]
  },
  {
   "cell_type": "code",
   "execution_count": 18,
   "metadata": {},
   "outputs": [],
   "source": [
    "study2_wave2 = gay.loc[(gay['study'] == 2) & (gay['wave'] == 2)]"
   ]
  },
  {
   "cell_type": "code",
   "execution_count": 19,
   "metadata": {},
   "outputs": [
    {
     "data": {
      "text/plain": [
       "treatment\n",
       "No Contact                                   2.992300\n",
       "Same-Sex Marriage Script by Gay Canvasser    3.116194\n",
       "Name: ssm, dtype: float64"
      ]
     },
     "execution_count": 19,
     "metadata": {},
     "output_type": "execute_result"
    }
   ],
   "source": [
    "study2_wave2m = study2_wave2.groupby(study2_wave2['treatment'])['ssm'].mean()\n",
    "study2_wave2m"
   ]
  },
  {
   "cell_type": "code",
   "execution_count": 20,
   "metadata": {},
   "outputs": [
    {
     "data": {
      "text/plain": [
       "0.12223989129478952"
      ]
     },
     "execution_count": 20,
     "metadata": {},
     "output_type": "execute_result"
    }
   ],
   "source": [
    "DIDstudy2 = (study2_wave2m[1] - study2_wave1m[1]) - (study2_wave2m[0] - study2_wave1m[0])\n",
    "DIDstudy2"
   ]
  },
  {
   "cell_type": "code",
   "execution_count": 21,
   "metadata": {},
   "outputs": [
    {
     "data": {
      "text/plain": [
       "0.11744356518021437"
      ]
     },
     "execution_count": 21,
     "metadata": {},
     "output_type": "execute_result"
    }
   ],
   "source": [
    "DID_gay1"
   ]
  },
  {
   "cell_type": "markdown",
   "metadata": {},
   "source": [
    "### Question 7:"
   ]
  },
  {
   "cell_type": "code",
   "execution_count": 22,
   "metadata": {},
   "outputs": [
    {
     "data": {
      "text/plain": [
       "array([1, 7, 2, 3, 4])"
      ]
     },
     "execution_count": 22,
     "metadata": {},
     "output_type": "execute_result"
    }
   ],
   "source": [
    "# study 2 does not contain fifth and sixth wave\n",
    "gay.loc[(gay['study'] == 2)]['wave'].unique()"
   ]
  },
  {
   "cell_type": "code",
   "execution_count": 23,
   "metadata": {},
   "outputs": [],
   "source": [
    "study2_wave3 = gay.loc[(gay['study'] == 2) & (gay['wave'] == 3)]\n",
    "study2_wave4 = gay.loc[(gay['study'] == 2) & (gay['wave'] == 4)]\n",
    "study2_wave7 = gay.loc[(gay['study'] == 2) & (gay['wave'] == 7)]"
   ]
  },
  {
   "cell_type": "code",
   "execution_count": 24,
   "metadata": {},
   "outputs": [],
   "source": [
    "study2_wave3m = study2_wave3.groupby(study2_wave3['treatment'])['ssm'].mean()\n",
    "study2_wave4m = study2_wave4.groupby(study2_wave4['treatment'])['ssm'].mean()\n",
    "study2_wave7m = study2_wave7.groupby(study2_wave7['treatment'])['ssm'].mean()"
   ]
  },
  {
   "cell_type": "code",
   "execution_count": 25,
   "metadata": {},
   "outputs": [],
   "source": [
    "DID_study2_wave3m = (study2_wave3m[1] - study2_wave1m[1]) - (study2_wave3m[0] - study2_wave1m[0])\n",
    "DID_study2_wave4m = (study2_wave4m[1] - study2_wave1m[1]) - (study2_wave4m[0] - study2_wave1m[0])\n",
    "DID_study2_wave7m = (study2_wave7m[1] - study2_wave1m[1]) - (study2_wave7m[0] - study2_wave1m[0])"
   ]
  },
  {
   "cell_type": "code",
   "execution_count": 26,
   "metadata": {},
   "outputs": [
    {
     "data": {
      "text/plain": [
       "(0.1487668457728657, 0.12352004033427688, 0.3054088669749504)"
      ]
     },
     "execution_count": 26,
     "metadata": {},
     "output_type": "execute_result"
    }
   ],
   "source": [
    "DID_study2_wave3m, DID_study2_wave4m, DID_study2_wave7m"
   ]
  }
 ],
 "metadata": {
  "kernelspec": {
   "display_name": "Python 3",
   "language": "python",
   "name": "python3"
  },
  "language_info": {
   "codemirror_mode": {
    "name": "ipython",
    "version": 3
   },
   "file_extension": ".py",
   "mimetype": "text/x-python",
   "name": "python",
   "nbconvert_exporter": "python",
   "pygments_lexer": "ipython3",
   "version": "3.6.9"
  }
 },
 "nbformat": 4,
 "nbformat_minor": 2
}
