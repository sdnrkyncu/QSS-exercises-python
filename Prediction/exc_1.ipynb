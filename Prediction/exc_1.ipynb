{
 "cells": [
  {
   "cell_type": "markdown",
   "metadata": {},
   "source": [
    "## Exercise 1"
   ]
  },
  {
   "cell_type": "markdown",
   "metadata": {},
   "source": [
    "### Question 1"
   ]
  },
  {
   "cell_type": "markdown",
   "metadata": {},
   "source": [
    "Use the market prices on the day before the election to predict the 2008 election outcome."
   ]
  },
  {
   "cell_type": "code",
   "execution_count": 1,
   "metadata": {},
   "outputs": [],
   "source": [
    "import pandas as pd\n",
    "import numpy as np"
   ]
  },
  {
   "cell_type": "code",
   "execution_count": 2,
   "metadata": {},
   "outputs": [],
   "source": [
    "intrade08 = pd.read_csv('intrade08.csv')\n",
    "intrade12 = pd.read_csv('intrade12.csv')\n",
    "pres08 = pd.read_csv('pres08.csv')\n",
    "pres12 = pd.read_csv('pres12.csv')"
   ]
  },
  {
   "cell_type": "code",
   "execution_count": 3,
   "metadata": {},
   "outputs": [
    {
     "data": {
      "text/html": [
       "<div>\n",
       "<style scoped>\n",
       "    .dataframe tbody tr th:only-of-type {\n",
       "        vertical-align: middle;\n",
       "    }\n",
       "\n",
       "    .dataframe tbody tr th {\n",
       "        vertical-align: top;\n",
       "    }\n",
       "\n",
       "    .dataframe thead th {\n",
       "        text-align: right;\n",
       "    }\n",
       "</style>\n",
       "<table border=\"1\" class=\"dataframe\">\n",
       "  <thead>\n",
       "    <tr style=\"text-align: right;\">\n",
       "      <th></th>\n",
       "      <th>Unnamed: 0</th>\n",
       "      <th>day</th>\n",
       "      <th>statename</th>\n",
       "      <th>PriceD</th>\n",
       "      <th>VolumeD</th>\n",
       "      <th>PriceR</th>\n",
       "      <th>VolumeR</th>\n",
       "      <th>state</th>\n",
       "    </tr>\n",
       "  </thead>\n",
       "  <tbody>\n",
       "    <tr>\n",
       "      <th>0</th>\n",
       "      <td>1</td>\n",
       "      <td>2006-11-12</td>\n",
       "      <td>Alabama</td>\n",
       "      <td>40.0</td>\n",
       "      <td>0</td>\n",
       "      <td>40.0</td>\n",
       "      <td>0</td>\n",
       "      <td>AL</td>\n",
       "    </tr>\n",
       "    <tr>\n",
       "      <th>1</th>\n",
       "      <td>2</td>\n",
       "      <td>2006-11-12</td>\n",
       "      <td>Alaska</td>\n",
       "      <td>40.0</td>\n",
       "      <td>0</td>\n",
       "      <td>40.0</td>\n",
       "      <td>0</td>\n",
       "      <td>AK</td>\n",
       "    </tr>\n",
       "    <tr>\n",
       "      <th>2</th>\n",
       "      <td>3</td>\n",
       "      <td>2006-11-12</td>\n",
       "      <td>Arizona</td>\n",
       "      <td>40.0</td>\n",
       "      <td>0</td>\n",
       "      <td>40.0</td>\n",
       "      <td>0</td>\n",
       "      <td>AZ</td>\n",
       "    </tr>\n",
       "    <tr>\n",
       "      <th>3</th>\n",
       "      <td>4</td>\n",
       "      <td>2006-11-12</td>\n",
       "      <td>Arkansas</td>\n",
       "      <td>40.0</td>\n",
       "      <td>0</td>\n",
       "      <td>40.0</td>\n",
       "      <td>0</td>\n",
       "      <td>AR</td>\n",
       "    </tr>\n",
       "    <tr>\n",
       "      <th>4</th>\n",
       "      <td>5</td>\n",
       "      <td>2006-11-12</td>\n",
       "      <td>California</td>\n",
       "      <td>40.0</td>\n",
       "      <td>0</td>\n",
       "      <td>40.0</td>\n",
       "      <td>0</td>\n",
       "      <td>CA</td>\n",
       "    </tr>\n",
       "  </tbody>\n",
       "</table>\n",
       "</div>"
      ],
      "text/plain": [
       "   Unnamed: 0         day   statename  PriceD  VolumeD  PriceR  VolumeR state\n",
       "0           1  2006-11-12     Alabama    40.0        0    40.0        0    AL\n",
       "1           2  2006-11-12      Alaska    40.0        0    40.0        0    AK\n",
       "2           3  2006-11-12     Arizona    40.0        0    40.0        0    AZ\n",
       "3           4  2006-11-12    Arkansas    40.0        0    40.0        0    AR\n",
       "4           5  2006-11-12  California    40.0        0    40.0        0    CA"
      ]
     },
     "execution_count": 3,
     "metadata": {},
     "output_type": "execute_result"
    }
   ],
   "source": [
    "intrade08.head()"
   ]
  },
  {
   "cell_type": "code",
   "execution_count": 4,
   "metadata": {},
   "outputs": [],
   "source": [
    "# add daily margin of prices to the intrade08 dataset\n",
    "# the sign is + if Obama wins, - if McCain wins\n",
    "\n",
    "intrade08['margin'] = intrade08['PriceD'] - intrade08['PriceR']"
   ]
  },
  {
   "cell_type": "code",
   "execution_count": 5,
   "metadata": {},
   "outputs": [],
   "source": [
    "# subset the data such that it contains the market information for each state \n",
    "# and candidate on the day before the election only. \n",
    "\n",
    "intrade08['day'] = pd.to_datetime(intrade08['day'], format='%Y-%m-%d') \n",
    "filtered_df = intrade08.loc[(intrade08['day'] == '2008-11-03')]"
   ]
  },
  {
   "cell_type": "code",
   "execution_count": 6,
   "metadata": {},
   "outputs": [
    {
     "data": {
      "text/plain": [
       "array(['2008-11-03T00:00:00.000000000'], dtype='datetime64[ns]')"
      ]
     },
     "execution_count": 6,
     "metadata": {},
     "output_type": "execute_result"
    }
   ],
   "source": [
    "filtered_df = filtered_df.reset_index()\n",
    "filtered_df['day'].unique()"
   ]
  },
  {
   "cell_type": "code",
   "execution_count": 7,
   "metadata": {},
   "outputs": [
    {
     "data": {
      "text/html": [
       "<div>\n",
       "<style scoped>\n",
       "    .dataframe tbody tr th:only-of-type {\n",
       "        vertical-align: middle;\n",
       "    }\n",
       "\n",
       "    .dataframe tbody tr th {\n",
       "        vertical-align: top;\n",
       "    }\n",
       "\n",
       "    .dataframe thead th {\n",
       "        text-align: right;\n",
       "    }\n",
       "</style>\n",
       "<table border=\"1\" class=\"dataframe\">\n",
       "  <thead>\n",
       "    <tr style=\"text-align: right;\">\n",
       "      <th></th>\n",
       "      <th>index</th>\n",
       "      <th>Unnamed: 0</th>\n",
       "      <th>day</th>\n",
       "      <th>statename</th>\n",
       "      <th>PriceD</th>\n",
       "      <th>VolumeD</th>\n",
       "      <th>PriceR</th>\n",
       "      <th>VolumeR</th>\n",
       "      <th>state</th>\n",
       "      <th>margin</th>\n",
       "    </tr>\n",
       "  </thead>\n",
       "  <tbody>\n",
       "    <tr>\n",
       "      <th>0</th>\n",
       "      <td>36770</td>\n",
       "      <td>36771</td>\n",
       "      <td>2008-11-03</td>\n",
       "      <td>Alabama</td>\n",
       "      <td>3.3</td>\n",
       "      <td>0</td>\n",
       "      <td>95.0</td>\n",
       "      <td>90</td>\n",
       "      <td>AL</td>\n",
       "      <td>-91.7</td>\n",
       "    </tr>\n",
       "    <tr>\n",
       "      <th>1</th>\n",
       "      <td>36771</td>\n",
       "      <td>36772</td>\n",
       "      <td>2008-11-03</td>\n",
       "      <td>Alaska</td>\n",
       "      <td>6.0</td>\n",
       "      <td>32</td>\n",
       "      <td>94.0</td>\n",
       "      <td>58</td>\n",
       "      <td>AK</td>\n",
       "      <td>-88.0</td>\n",
       "    </tr>\n",
       "    <tr>\n",
       "      <th>2</th>\n",
       "      <td>36772</td>\n",
       "      <td>36773</td>\n",
       "      <td>2008-11-03</td>\n",
       "      <td>Arizona</td>\n",
       "      <td>18.9</td>\n",
       "      <td>1662</td>\n",
       "      <td>80.2</td>\n",
       "      <td>139</td>\n",
       "      <td>AZ</td>\n",
       "      <td>-61.3</td>\n",
       "    </tr>\n",
       "    <tr>\n",
       "      <th>3</th>\n",
       "      <td>36773</td>\n",
       "      <td>36774</td>\n",
       "      <td>2008-11-03</td>\n",
       "      <td>Arkansas</td>\n",
       "      <td>3.9</td>\n",
       "      <td>11</td>\n",
       "      <td>90.0</td>\n",
       "      <td>5</td>\n",
       "      <td>AR</td>\n",
       "      <td>-86.1</td>\n",
       "    </tr>\n",
       "    <tr>\n",
       "      <th>4</th>\n",
       "      <td>36774</td>\n",
       "      <td>36775</td>\n",
       "      <td>2008-11-03</td>\n",
       "      <td>California</td>\n",
       "      <td>97.9</td>\n",
       "      <td>100</td>\n",
       "      <td>2.1</td>\n",
       "      <td>10</td>\n",
       "      <td>CA</td>\n",
       "      <td>95.8</td>\n",
       "    </tr>\n",
       "  </tbody>\n",
       "</table>\n",
       "</div>"
      ],
      "text/plain": [
       "   index  Unnamed: 0        day   statename  PriceD  VolumeD  PriceR  VolumeR  \\\n",
       "0  36770       36771 2008-11-03     Alabama     3.3        0    95.0       90   \n",
       "1  36771       36772 2008-11-03      Alaska     6.0       32    94.0       58   \n",
       "2  36772       36773 2008-11-03     Arizona    18.9     1662    80.2      139   \n",
       "3  36773       36774 2008-11-03    Arkansas     3.9       11    90.0        5   \n",
       "4  36774       36775 2008-11-03  California    97.9      100     2.1       10   \n",
       "\n",
       "  state  margin  \n",
       "0    AL   -91.7  \n",
       "1    AK   -88.0  \n",
       "2    AZ   -61.3  \n",
       "3    AR   -86.1  \n",
       "4    CA    95.8  "
      ]
     },
     "execution_count": 7,
     "metadata": {},
     "output_type": "execute_result"
    }
   ],
   "source": [
    "filtered_df.head()"
   ]
  },
  {
   "cell_type": "markdown",
   "metadata": {},
   "source": [
    "Compare the closing prices for the two candidates in a given state and classify a candidate whose contract has a higher price as the predicted winner of that state."
   ]
  },
  {
   "cell_type": "code",
   "execution_count": 8,
   "metadata": {},
   "outputs": [
    {
     "data": {
      "text/plain": [
       "0"
      ]
     },
     "execution_count": 8,
     "metadata": {},
     "output_type": "execute_result"
    }
   ],
   "source": [
    "# check if there is any equal prices\n",
    "len(filtered_df[filtered_df['PriceD'] == filtered_df['PriceR']])\n",
    "\n",
    "# There is none. So we can continue without considering such a situation."
   ]
  },
  {
   "cell_type": "code",
   "execution_count": 9,
   "metadata": {},
   "outputs": [],
   "source": [
    "# add a 'winner' column to filtered_df\n",
    " \n",
    "conditions = [filtered_df['margin'] > 0,\n",
    "             filtered_df['margin'] < 0]\n",
    "choices = ['Obama', 'McCain']\n",
    "\n",
    "filtered_df['winner'] = np.select(conditions, choices)"
   ]
  },
  {
   "cell_type": "code",
   "execution_count": 10,
   "metadata": {},
   "outputs": [
    {
     "data": {
      "text/html": [
       "<div>\n",
       "<style scoped>\n",
       "    .dataframe tbody tr th:only-of-type {\n",
       "        vertical-align: middle;\n",
       "    }\n",
       "\n",
       "    .dataframe tbody tr th {\n",
       "        vertical-align: top;\n",
       "    }\n",
       "\n",
       "    .dataframe thead th {\n",
       "        text-align: right;\n",
       "    }\n",
       "</style>\n",
       "<table border=\"1\" class=\"dataframe\">\n",
       "  <thead>\n",
       "    <tr style=\"text-align: right;\">\n",
       "      <th></th>\n",
       "      <th>index</th>\n",
       "      <th>Unnamed: 0</th>\n",
       "      <th>day</th>\n",
       "      <th>statename</th>\n",
       "      <th>PriceD</th>\n",
       "      <th>VolumeD</th>\n",
       "      <th>PriceR</th>\n",
       "      <th>VolumeR</th>\n",
       "      <th>state</th>\n",
       "      <th>margin</th>\n",
       "      <th>winner</th>\n",
       "    </tr>\n",
       "  </thead>\n",
       "  <tbody>\n",
       "    <tr>\n",
       "      <th>0</th>\n",
       "      <td>36770</td>\n",
       "      <td>36771</td>\n",
       "      <td>2008-11-03</td>\n",
       "      <td>Alabama</td>\n",
       "      <td>3.3</td>\n",
       "      <td>0</td>\n",
       "      <td>95.0</td>\n",
       "      <td>90</td>\n",
       "      <td>AL</td>\n",
       "      <td>-91.7</td>\n",
       "      <td>McCain</td>\n",
       "    </tr>\n",
       "    <tr>\n",
       "      <th>1</th>\n",
       "      <td>36771</td>\n",
       "      <td>36772</td>\n",
       "      <td>2008-11-03</td>\n",
       "      <td>Alaska</td>\n",
       "      <td>6.0</td>\n",
       "      <td>32</td>\n",
       "      <td>94.0</td>\n",
       "      <td>58</td>\n",
       "      <td>AK</td>\n",
       "      <td>-88.0</td>\n",
       "      <td>McCain</td>\n",
       "    </tr>\n",
       "    <tr>\n",
       "      <th>2</th>\n",
       "      <td>36772</td>\n",
       "      <td>36773</td>\n",
       "      <td>2008-11-03</td>\n",
       "      <td>Arizona</td>\n",
       "      <td>18.9</td>\n",
       "      <td>1662</td>\n",
       "      <td>80.2</td>\n",
       "      <td>139</td>\n",
       "      <td>AZ</td>\n",
       "      <td>-61.3</td>\n",
       "      <td>McCain</td>\n",
       "    </tr>\n",
       "    <tr>\n",
       "      <th>3</th>\n",
       "      <td>36773</td>\n",
       "      <td>36774</td>\n",
       "      <td>2008-11-03</td>\n",
       "      <td>Arkansas</td>\n",
       "      <td>3.9</td>\n",
       "      <td>11</td>\n",
       "      <td>90.0</td>\n",
       "      <td>5</td>\n",
       "      <td>AR</td>\n",
       "      <td>-86.1</td>\n",
       "      <td>McCain</td>\n",
       "    </tr>\n",
       "    <tr>\n",
       "      <th>4</th>\n",
       "      <td>36774</td>\n",
       "      <td>36775</td>\n",
       "      <td>2008-11-03</td>\n",
       "      <td>California</td>\n",
       "      <td>97.9</td>\n",
       "      <td>100</td>\n",
       "      <td>2.1</td>\n",
       "      <td>10</td>\n",
       "      <td>CA</td>\n",
       "      <td>95.8</td>\n",
       "      <td>Obama</td>\n",
       "    </tr>\n",
       "  </tbody>\n",
       "</table>\n",
       "</div>"
      ],
      "text/plain": [
       "   index  Unnamed: 0        day   statename  PriceD  VolumeD  PriceR  VolumeR  \\\n",
       "0  36770       36771 2008-11-03     Alabama     3.3        0    95.0       90   \n",
       "1  36771       36772 2008-11-03      Alaska     6.0       32    94.0       58   \n",
       "2  36772       36773 2008-11-03     Arizona    18.9     1662    80.2      139   \n",
       "3  36773       36774 2008-11-03    Arkansas     3.9       11    90.0        5   \n",
       "4  36774       36775 2008-11-03  California    97.9      100     2.1       10   \n",
       "\n",
       "  state  margin  winner  \n",
       "0    AL   -91.7  McCain  \n",
       "1    AK   -88.0  McCain  \n",
       "2    AZ   -61.3  McCain  \n",
       "3    AR   -86.1  McCain  \n",
       "4    CA    95.8   Obama  "
      ]
     },
     "execution_count": 10,
     "metadata": {},
     "output_type": "execute_result"
    }
   ],
   "source": [
    "filtered_df.head()"
   ]
  },
  {
   "cell_type": "code",
   "execution_count": 11,
   "metadata": {},
   "outputs": [],
   "source": [
    "# add a 'winner' column to pres08 but this time with another method\n",
    " \n",
    "pres08['winner'] = np.where(pres08['Obama'] > pres08['McCain'], 'Obama', 'McCain')"
   ]
  },
  {
   "cell_type": "code",
   "execution_count": 12,
   "metadata": {},
   "outputs": [
    {
     "data": {
      "text/html": [
       "<div>\n",
       "<style scoped>\n",
       "    .dataframe tbody tr th:only-of-type {\n",
       "        vertical-align: middle;\n",
       "    }\n",
       "\n",
       "    .dataframe tbody tr th {\n",
       "        vertical-align: top;\n",
       "    }\n",
       "\n",
       "    .dataframe thead th {\n",
       "        text-align: right;\n",
       "    }\n",
       "</style>\n",
       "<table border=\"1\" class=\"dataframe\">\n",
       "  <thead>\n",
       "    <tr style=\"text-align: right;\">\n",
       "      <th></th>\n",
       "      <th>state.name</th>\n",
       "      <th>state</th>\n",
       "      <th>Obama</th>\n",
       "      <th>McCain</th>\n",
       "      <th>EV</th>\n",
       "      <th>winner</th>\n",
       "    </tr>\n",
       "  </thead>\n",
       "  <tbody>\n",
       "    <tr>\n",
       "      <th>0</th>\n",
       "      <td>Alabama</td>\n",
       "      <td>AL</td>\n",
       "      <td>39</td>\n",
       "      <td>60</td>\n",
       "      <td>9</td>\n",
       "      <td>McCain</td>\n",
       "    </tr>\n",
       "    <tr>\n",
       "      <th>1</th>\n",
       "      <td>Alaska</td>\n",
       "      <td>AK</td>\n",
       "      <td>38</td>\n",
       "      <td>59</td>\n",
       "      <td>3</td>\n",
       "      <td>McCain</td>\n",
       "    </tr>\n",
       "    <tr>\n",
       "      <th>2</th>\n",
       "      <td>Arizona</td>\n",
       "      <td>AZ</td>\n",
       "      <td>45</td>\n",
       "      <td>54</td>\n",
       "      <td>10</td>\n",
       "      <td>McCain</td>\n",
       "    </tr>\n",
       "    <tr>\n",
       "      <th>3</th>\n",
       "      <td>Arkansas</td>\n",
       "      <td>AR</td>\n",
       "      <td>39</td>\n",
       "      <td>59</td>\n",
       "      <td>6</td>\n",
       "      <td>McCain</td>\n",
       "    </tr>\n",
       "    <tr>\n",
       "      <th>4</th>\n",
       "      <td>California</td>\n",
       "      <td>CA</td>\n",
       "      <td>61</td>\n",
       "      <td>37</td>\n",
       "      <td>55</td>\n",
       "      <td>Obama</td>\n",
       "    </tr>\n",
       "  </tbody>\n",
       "</table>\n",
       "</div>"
      ],
      "text/plain": [
       "   state.name state  Obama  McCain  EV  winner\n",
       "0     Alabama    AL     39      60   9  McCain\n",
       "1      Alaska    AK     38      59   3  McCain\n",
       "2     Arizona    AZ     45      54  10  McCain\n",
       "3    Arkansas    AR     39      59   6  McCain\n",
       "4  California    CA     61      37  55   Obama"
      ]
     },
     "execution_count": 12,
     "metadata": {},
     "output_type": "execute_result"
    }
   ],
   "source": [
    "pres08.head()"
   ]
  },
  {
   "cell_type": "code",
   "execution_count": 13,
   "metadata": {},
   "outputs": [
    {
     "data": {
      "text/plain": [
       "0      True\n",
       "1      True\n",
       "2      True\n",
       "3      True\n",
       "4      True\n",
       "5      True\n",
       "6      True\n",
       "7     False\n",
       "8     False\n",
       "9      True\n",
       "10     True\n",
       "11     True\n",
       "12     True\n",
       "13     True\n",
       "14     True\n",
       "15     True\n",
       "16     True\n",
       "17     True\n",
       "18     True\n",
       "19     True\n",
       "20     True\n",
       "21     True\n",
       "22     True\n",
       "23     True\n",
       "24     True\n",
       "25     True\n",
       "26     True\n",
       "27     True\n",
       "28     True\n",
       "29     True\n",
       "30     True\n",
       "31     True\n",
       "32     True\n",
       "33     True\n",
       "34     True\n",
       "35     True\n",
       "36     True\n",
       "37     True\n",
       "38     True\n",
       "39     True\n",
       "40     True\n",
       "41     True\n",
       "42     True\n",
       "43     True\n",
       "44     True\n",
       "45     True\n",
       "46     True\n",
       "47     True\n",
       "48     True\n",
       "49     True\n",
       "50     True\n",
       "dtype: bool"
      ]
     },
     "execution_count": 13,
     "metadata": {},
     "output_type": "execute_result"
    }
   ],
   "source": [
    "# set a common index for the both dataframes\n",
    "# but first check if the columns we are going to set as indexes match\n",
    "\n",
    "filtered_df['statename'] == pres08['state.name']"
   ]
  },
  {
   "cell_type": "code",
   "execution_count": 14,
   "metadata": {},
   "outputs": [],
   "source": [
    "# They don't match. The 8th and 9th rows are problematic.\n",
    "# If we look closer, abbreviation 'D.C' is used for the District of Columbia in pres08\n",
    "\n",
    "pres08.iloc[7,0] = 'District of Columbia'\n"
   ]
  },
  {
   "cell_type": "code",
   "execution_count": 15,
   "metadata": {},
   "outputs": [],
   "source": [
    "filtered_df.set_index(filtered_df.statename, inplace=True)\n",
    "pres08.set_index(pres08['state.name'], inplace=True)"
   ]
  },
  {
   "cell_type": "code",
   "execution_count": 16,
   "metadata": {},
   "outputs": [
    {
     "data": {
      "text/plain": [
       "array([ True,  True,  True,  True,  True,  True,  True, False, False,\n",
       "        True,  True,  True,  True,  True,  True,  True,  True,  True,\n",
       "        True,  True,  True,  True,  True,  True,  True,  True,  True,\n",
       "        True,  True,  True,  True,  True,  True,  True,  True,  True,\n",
       "        True,  True,  True,  True,  True,  True,  True,  True,  True,\n",
       "        True,  True,  True,  True,  True,  True])"
      ]
     },
     "execution_count": 16,
     "metadata": {},
     "output_type": "execute_result"
    }
   ],
   "source": [
    "filtered_df.index == pres08.index"
   ]
  },
  {
   "cell_type": "code",
   "execution_count": 17,
   "metadata": {},
   "outputs": [],
   "source": [
    "filtered_df.sort_index(inplace=True)\n",
    "pres08.sort_index(inplace=True)\n"
   ]
  },
  {
   "cell_type": "code",
   "execution_count": 18,
   "metadata": {},
   "outputs": [
    {
     "data": {
      "text/plain": [
       "array([ True,  True,  True,  True,  True,  True,  True,  True,  True,\n",
       "        True,  True,  True,  True,  True,  True,  True,  True,  True,\n",
       "        True,  True,  True,  True,  True,  True,  True,  True,  True,\n",
       "        True,  True,  True,  True,  True,  True,  True,  True,  True,\n",
       "        True,  True,  True,  True,  True,  True,  True,  True,  True,\n",
       "        True,  True,  True,  True,  True,  True])"
      ]
     },
     "execution_count": 18,
     "metadata": {},
     "output_type": "execute_result"
    }
   ],
   "source": [
    "filtered_df.index == pres08.index"
   ]
  },
  {
   "cell_type": "code",
   "execution_count": 19,
   "metadata": {},
   "outputs": [
    {
     "data": {
      "text/html": [
       "<div>\n",
       "<style scoped>\n",
       "    .dataframe tbody tr th:only-of-type {\n",
       "        vertical-align: middle;\n",
       "    }\n",
       "\n",
       "    .dataframe tbody tr th {\n",
       "        vertical-align: top;\n",
       "    }\n",
       "\n",
       "    .dataframe thead th {\n",
       "        text-align: right;\n",
       "    }\n",
       "</style>\n",
       "<table border=\"1\" class=\"dataframe\">\n",
       "  <thead>\n",
       "    <tr style=\"text-align: right;\">\n",
       "      <th></th>\n",
       "      <th>index</th>\n",
       "      <th>Unnamed: 0</th>\n",
       "      <th>day</th>\n",
       "      <th>statename</th>\n",
       "      <th>PriceD</th>\n",
       "      <th>VolumeD</th>\n",
       "      <th>PriceR</th>\n",
       "      <th>VolumeR</th>\n",
       "      <th>state</th>\n",
       "      <th>margin</th>\n",
       "      <th>winner</th>\n",
       "    </tr>\n",
       "    <tr>\n",
       "      <th>statename</th>\n",
       "      <th></th>\n",
       "      <th></th>\n",
       "      <th></th>\n",
       "      <th></th>\n",
       "      <th></th>\n",
       "      <th></th>\n",
       "      <th></th>\n",
       "      <th></th>\n",
       "      <th></th>\n",
       "      <th></th>\n",
       "      <th></th>\n",
       "    </tr>\n",
       "  </thead>\n",
       "  <tbody>\n",
       "    <tr>\n",
       "      <th>Indiana</th>\n",
       "      <td>36784</td>\n",
       "      <td>36785</td>\n",
       "      <td>2008-11-03</td>\n",
       "      <td>Indiana</td>\n",
       "      <td>39.0</td>\n",
       "      <td>945</td>\n",
       "      <td>62.2</td>\n",
       "      <td>641</td>\n",
       "      <td>IN</td>\n",
       "      <td>-23.2</td>\n",
       "      <td>McCain</td>\n",
       "    </tr>\n",
       "    <tr>\n",
       "      <th>Missouri</th>\n",
       "      <td>36795</td>\n",
       "      <td>36796</td>\n",
       "      <td>2008-11-03</td>\n",
       "      <td>Missouri</td>\n",
       "      <td>55.6</td>\n",
       "      <td>579</td>\n",
       "      <td>48.0</td>\n",
       "      <td>170</td>\n",
       "      <td>MO</td>\n",
       "      <td>7.6</td>\n",
       "      <td>Obama</td>\n",
       "    </tr>\n",
       "  </tbody>\n",
       "</table>\n",
       "</div>"
      ],
      "text/plain": [
       "           index  Unnamed: 0        day statename  PriceD  VolumeD  PriceR  \\\n",
       "statename                                                                    \n",
       "Indiana    36784       36785 2008-11-03   Indiana    39.0      945    62.2   \n",
       "Missouri   36795       36796 2008-11-03  Missouri    55.6      579    48.0   \n",
       "\n",
       "           VolumeR state  margin  winner  \n",
       "statename                                 \n",
       "Indiana        641    IN   -23.2  McCain  \n",
       "Missouri       170    MO     7.6   Obama  "
      ]
     },
     "execution_count": 19,
     "metadata": {},
     "output_type": "execute_result"
    }
   ],
   "source": [
    "# Which states were missclassified?\n",
    "filtered_df.loc[(pres08['winner'] != filtered_df['winner'])]"
   ]
  },
  {
   "cell_type": "markdown",
   "metadata": {},
   "source": [
    "### Question 2"
   ]
  },
  {
   "cell_type": "markdown",
   "metadata": {},
   "source": [
    "How do the predictions based on the betting markets change over 90 days period of time?"
   ]
  },
  {
   "cell_type": "code",
   "execution_count": 20,
   "metadata": {},
   "outputs": [],
   "source": [
    "filtered_df2 = intrade08.copy()\n",
    "filtered_df2['day'] = pd.to_datetime(filtered_df2['day']) "
   ]
  },
  {
   "cell_type": "code",
   "execution_count": 21,
   "metadata": {},
   "outputs": [],
   "source": [
    "# My first approach to figuring out the date which is 90 days before the election date. \n",
    "# And it is a really cool one, and it works. But another approach below is run for this notebook.\n",
    "\n",
    "# filtered_df2['90_days'] = np.where(filtered_df2['day'] + pd.Timedelta(3, unit='D') <  '2008-11-03', \"90 days overdue\", \"OK\")"
   ]
  },
  {
   "cell_type": "code",
   "execution_count": 22,
   "metadata": {},
   "outputs": [
    {
     "data": {
      "text/plain": [
       "datetime.timedelta(90)"
      ]
     },
     "execution_count": 22,
     "metadata": {},
     "output_type": "execute_result"
    }
   ],
   "source": [
    "# The second approach to figuring out the date which is 90 days before the election date\n",
    "\n",
    "# import the datetime module\n",
    "from datetime import datetime\n",
    "x = datetime.strptime('2008-11-04', '%Y-%m-%d')\n",
    "y = datetime.strptime('2008/8/6', '%Y/%m/%d')\n",
    "\n",
    "# number of days between 2008/8/6 and 11/4/2008\n",
    "x-y # a timedelta object"
   ]
  },
  {
   "cell_type": "code",
   "execution_count": 23,
   "metadata": {},
   "outputs": [],
   "source": [
    "# filter filtered_df2 further based on the desired time period\n",
    "filtered_df2 = filtered_df2[(filtered_df2['day'] < x) & (filtered_df2['day'] > y)]"
   ]
  },
  {
   "cell_type": "code",
   "execution_count": 24,
   "metadata": {},
   "outputs": [
    {
     "data": {
      "text/plain": [
       "True"
      ]
     },
     "execution_count": 24,
     "metadata": {},
     "output_type": "execute_result"
    }
   ],
   "source": [
    "# We will need to create an Electral Votes column for filtered_df2.  \n",
    "# The values to this column will be taken from pres08\n",
    "\n",
    "# But first, confirm that the values of 'statename' and 'state.name' columns match again\n",
    "filtered_df2.iloc[:52, 2].values.sort() == pres08.iloc[:, 0].values.sort()"
   ]
  },
  {
   "cell_type": "code",
   "execution_count": 25,
   "metadata": {},
   "outputs": [],
   "source": [
    "# get EV values from pres08\n",
    "state_name = pres08['state.name'].values.tolist()\n",
    "ev = pres08['EV'].values.tolist()\n",
    "\n",
    "# the empty list that will be joined later to filtered_df2.\n",
    "ev_for_filtered_df2 = []\n",
    "\n",
    "# loop for filling ev_for_filtered_df2, which is an empty list yet.\n",
    "for state in filtered_df2['statename'].values.tolist():\n",
    "    i = state_name.index(state)\n",
    "    ev_for_filtered_df2.append(ev[i])"
   ]
  },
  {
   "cell_type": "code",
   "execution_count": 26,
   "metadata": {},
   "outputs": [],
   "source": [
    "# turn the list into a Series object with the indexes matching with the dataset to-be-joined\n",
    "ev_for_filtered_df2 = pd.Series(ev_for_filtered_df2, index = filtered_df2.index)\n",
    "\n",
    "# join ev_for_filtered_df2 with filtered_df2\n",
    "filtered_df2 = filtered_df2.join(ev_for_filtered_df2.rename('EV'))"
   ]
  },
  {
   "cell_type": "code",
   "execution_count": 27,
   "metadata": {},
   "outputs": [
    {
     "data": {
      "text/html": [
       "<div>\n",
       "<style scoped>\n",
       "    .dataframe tbody tr th:only-of-type {\n",
       "        vertical-align: middle;\n",
       "    }\n",
       "\n",
       "    .dataframe tbody tr th {\n",
       "        vertical-align: top;\n",
       "    }\n",
       "\n",
       "    .dataframe thead th {\n",
       "        text-align: right;\n",
       "    }\n",
       "</style>\n",
       "<table border=\"1\" class=\"dataframe\">\n",
       "  <thead>\n",
       "    <tr style=\"text-align: right;\">\n",
       "      <th></th>\n",
       "      <th>Unnamed: 0</th>\n",
       "      <th>day</th>\n",
       "      <th>statename</th>\n",
       "      <th>PriceD</th>\n",
       "      <th>VolumeD</th>\n",
       "      <th>PriceR</th>\n",
       "      <th>VolumeR</th>\n",
       "      <th>state</th>\n",
       "      <th>margin</th>\n",
       "      <th>EV</th>\n",
       "    </tr>\n",
       "  </thead>\n",
       "  <tbody>\n",
       "    <tr>\n",
       "      <th>32282</th>\n",
       "      <td>32283</td>\n",
       "      <td>2008-08-07</td>\n",
       "      <td>Alabama</td>\n",
       "      <td>7.0</td>\n",
       "      <td>0</td>\n",
       "      <td>93.0</td>\n",
       "      <td>0</td>\n",
       "      <td>AL</td>\n",
       "      <td>-86.0</td>\n",
       "      <td>9</td>\n",
       "    </tr>\n",
       "    <tr>\n",
       "      <th>32283</th>\n",
       "      <td>32284</td>\n",
       "      <td>2008-08-07</td>\n",
       "      <td>Alabama</td>\n",
       "      <td>23.0</td>\n",
       "      <td>0</td>\n",
       "      <td>76.0</td>\n",
       "      <td>1</td>\n",
       "      <td>AK</td>\n",
       "      <td>-53.0</td>\n",
       "      <td>9</td>\n",
       "    </tr>\n",
       "    <tr>\n",
       "      <th>32284</th>\n",
       "      <td>32285</td>\n",
       "      <td>2008-08-07</td>\n",
       "      <td>Alaska</td>\n",
       "      <td>11.0</td>\n",
       "      <td>0</td>\n",
       "      <td>89.0</td>\n",
       "      <td>0</td>\n",
       "      <td>AZ</td>\n",
       "      <td>-78.0</td>\n",
       "      <td>3</td>\n",
       "    </tr>\n",
       "    <tr>\n",
       "      <th>32285</th>\n",
       "      <td>32286</td>\n",
       "      <td>2008-08-07</td>\n",
       "      <td>Arizona</td>\n",
       "      <td>15.1</td>\n",
       "      <td>0</td>\n",
       "      <td>84.9</td>\n",
       "      <td>0</td>\n",
       "      <td>AR</td>\n",
       "      <td>-69.8</td>\n",
       "      <td>10</td>\n",
       "    </tr>\n",
       "    <tr>\n",
       "      <th>32286</th>\n",
       "      <td>32287</td>\n",
       "      <td>2008-08-07</td>\n",
       "      <td>Arkansas</td>\n",
       "      <td>90.0</td>\n",
       "      <td>0</td>\n",
       "      <td>10.0</td>\n",
       "      <td>0</td>\n",
       "      <td>CA</td>\n",
       "      <td>80.0</td>\n",
       "      <td>6</td>\n",
       "    </tr>\n",
       "    <tr>\n",
       "      <th>...</th>\n",
       "      <td>...</td>\n",
       "      <td>...</td>\n",
       "      <td>...</td>\n",
       "      <td>...</td>\n",
       "      <td>...</td>\n",
       "      <td>...</td>\n",
       "      <td>...</td>\n",
       "      <td>...</td>\n",
       "      <td>...</td>\n",
       "      <td>...</td>\n",
       "    </tr>\n",
       "    <tr>\n",
       "      <th>36816</th>\n",
       "      <td>36817</td>\n",
       "      <td>2008-11-03</td>\n",
       "      <td>Virginia</td>\n",
       "      <td>86.1</td>\n",
       "      <td>1491</td>\n",
       "      <td>12.1</td>\n",
       "      <td>739</td>\n",
       "      <td>VA</td>\n",
       "      <td>74.0</td>\n",
       "      <td>13</td>\n",
       "    </tr>\n",
       "    <tr>\n",
       "      <th>36817</th>\n",
       "      <td>36818</td>\n",
       "      <td>2008-11-03</td>\n",
       "      <td>Washington</td>\n",
       "      <td>96.0</td>\n",
       "      <td>0</td>\n",
       "      <td>4.0</td>\n",
       "      <td>1</td>\n",
       "      <td>WA</td>\n",
       "      <td>92.0</td>\n",
       "      <td>11</td>\n",
       "    </tr>\n",
       "    <tr>\n",
       "      <th>36818</th>\n",
       "      <td>36819</td>\n",
       "      <td>2008-11-03</td>\n",
       "      <td>West Virginia</td>\n",
       "      <td>8.0</td>\n",
       "      <td>30</td>\n",
       "      <td>88.1</td>\n",
       "      <td>7</td>\n",
       "      <td>WV</td>\n",
       "      <td>-80.1</td>\n",
       "      <td>5</td>\n",
       "    </tr>\n",
       "    <tr>\n",
       "      <th>36819</th>\n",
       "      <td>36820</td>\n",
       "      <td>2008-11-03</td>\n",
       "      <td>Wisconsin</td>\n",
       "      <td>95.0</td>\n",
       "      <td>0</td>\n",
       "      <td>5.1</td>\n",
       "      <td>0</td>\n",
       "      <td>WI</td>\n",
       "      <td>89.9</td>\n",
       "      <td>10</td>\n",
       "    </tr>\n",
       "    <tr>\n",
       "      <th>36820</th>\n",
       "      <td>36821</td>\n",
       "      <td>2008-11-03</td>\n",
       "      <td>Wyoming</td>\n",
       "      <td>4.0</td>\n",
       "      <td>3</td>\n",
       "      <td>95.0</td>\n",
       "      <td>70</td>\n",
       "      <td>WY</td>\n",
       "      <td>-91.0</td>\n",
       "      <td>3</td>\n",
       "    </tr>\n",
       "  </tbody>\n",
       "</table>\n",
       "<p>4539 rows × 10 columns</p>\n",
       "</div>"
      ],
      "text/plain": [
       "       Unnamed: 0        day      statename  PriceD  VolumeD  PriceR  VolumeR  \\\n",
       "32282       32283 2008-08-07        Alabama     7.0        0    93.0        0   \n",
       "32283       32284 2008-08-07        Alabama    23.0        0    76.0        1   \n",
       "32284       32285 2008-08-07         Alaska    11.0        0    89.0        0   \n",
       "32285       32286 2008-08-07        Arizona    15.1        0    84.9        0   \n",
       "32286       32287 2008-08-07       Arkansas    90.0        0    10.0        0   \n",
       "...           ...        ...            ...     ...      ...     ...      ...   \n",
       "36816       36817 2008-11-03       Virginia    86.1     1491    12.1      739   \n",
       "36817       36818 2008-11-03     Washington    96.0        0     4.0        1   \n",
       "36818       36819 2008-11-03  West Virginia     8.0       30    88.1        7   \n",
       "36819       36820 2008-11-03      Wisconsin    95.0        0     5.1        0   \n",
       "36820       36821 2008-11-03        Wyoming     4.0        3    95.0       70   \n",
       "\n",
       "      state  margin  EV  \n",
       "32282    AL   -86.0   9  \n",
       "32283    AK   -53.0   9  \n",
       "32284    AZ   -78.0   3  \n",
       "32285    AR   -69.8  10  \n",
       "32286    CA    80.0   6  \n",
       "...     ...     ...  ..  \n",
       "36816    VA    74.0  13  \n",
       "36817    WA    92.0  11  \n",
       "36818    WV   -80.1   5  \n",
       "36819    WI    89.9  10  \n",
       "36820    WY   -91.0   3  \n",
       "\n",
       "[4539 rows x 10 columns]"
      ]
     },
     "execution_count": 27,
     "metadata": {},
     "output_type": "execute_result"
    }
   ],
   "source": [
    "filtered_df2"
   ]
  },
  {
   "cell_type": "code",
   "execution_count": 28,
   "metadata": {},
   "outputs": [],
   "source": [
    "# Duplicate the EV column in the dateset with a new name 'EV_Obama'. \n",
    "# We will then turn the 'EV_Obama' values where Obama was not the winner to zero \n",
    "\n",
    "# The same code above\n",
    "filtered_df2 = filtered_df2.join(ev_for_filtered_df2.rename('EV_Obama'))"
   ]
  },
  {
   "cell_type": "code",
   "execution_count": 29,
   "metadata": {},
   "outputs": [
    {
     "name": "stderr",
     "output_type": "stream",
     "text": [
      "/home/sudenur/.local/lib/python3.6/site-packages/pandas/core/indexing.py:670: SettingWithCopyWarning: \n",
      "A value is trying to be set on a copy of a slice from a DataFrame\n",
      "\n",
      "See the caveats in the documentation: https://pandas.pydata.org/pandas-docs/stable/user_guide/indexing.html#returning-a-view-versus-a-copy\n",
      "  iloc._setitem_with_indexer(indexer, value)\n"
     ]
    }
   ],
   "source": [
    "# turn the 'EV_Obama' values where Obama was not the winner to zero\n",
    "for i in range(len(filtered_df2['EV_Obama'])):\n",
    "    if (filtered_df2['margin'].iloc[i] < 0):\n",
    "        filtered_df2['EV_Obama'].iloc[i] = 0\n",
    "    else:\n",
    "        pass"
   ]
  },
  {
   "cell_type": "code",
   "execution_count": 30,
   "metadata": {},
   "outputs": [
    {
     "data": {
      "text/plain": [
       "32282    0\n",
       "32283    0\n",
       "32284    0\n",
       "32285    0\n",
       "32286    6\n",
       "Name: EV_Obama, dtype: int64"
      ]
     },
     "execution_count": 30,
     "metadata": {},
     "output_type": "execute_result"
    }
   ],
   "source": [
    "filtered_df2['EV_Obama'].head()"
   ]
  },
  {
   "cell_type": "code",
   "execution_count": 31,
   "metadata": {},
   "outputs": [
    {
     "data": {
      "text/html": [
       "<div>\n",
       "<style scoped>\n",
       "    .dataframe tbody tr th:only-of-type {\n",
       "        vertical-align: middle;\n",
       "    }\n",
       "\n",
       "    .dataframe tbody tr th {\n",
       "        vertical-align: top;\n",
       "    }\n",
       "\n",
       "    .dataframe thead th {\n",
       "        text-align: right;\n",
       "    }\n",
       "</style>\n",
       "<table border=\"1\" class=\"dataframe\">\n",
       "  <thead>\n",
       "    <tr style=\"text-align: right;\">\n",
       "      <th></th>\n",
       "      <th>day</th>\n",
       "      <th>EV_Obama</th>\n",
       "    </tr>\n",
       "  </thead>\n",
       "  <tbody>\n",
       "    <tr>\n",
       "      <th>0</th>\n",
       "      <td>2008-08-07</td>\n",
       "      <td>255</td>\n",
       "    </tr>\n",
       "    <tr>\n",
       "      <th>1</th>\n",
       "      <td>2008-08-08</td>\n",
       "      <td>311</td>\n",
       "    </tr>\n",
       "    <tr>\n",
       "      <th>2</th>\n",
       "      <td>2008-08-09</td>\n",
       "      <td>306</td>\n",
       "    </tr>\n",
       "    <tr>\n",
       "      <th>3</th>\n",
       "      <td>2008-08-10</td>\n",
       "      <td>306</td>\n",
       "    </tr>\n",
       "    <tr>\n",
       "      <th>4</th>\n",
       "      <td>2008-08-11</td>\n",
       "      <td>311</td>\n",
       "    </tr>\n",
       "    <tr>\n",
       "      <th>...</th>\n",
       "      <td>...</td>\n",
       "      <td>...</td>\n",
       "    </tr>\n",
       "    <tr>\n",
       "      <th>84</th>\n",
       "      <td>2008-10-30</td>\n",
       "      <td>364</td>\n",
       "    </tr>\n",
       "    <tr>\n",
       "      <th>85</th>\n",
       "      <td>2008-10-31</td>\n",
       "      <td>364</td>\n",
       "    </tr>\n",
       "    <tr>\n",
       "      <th>86</th>\n",
       "      <td>2008-11-01</td>\n",
       "      <td>364</td>\n",
       "    </tr>\n",
       "    <tr>\n",
       "      <th>87</th>\n",
       "      <td>2008-11-02</td>\n",
       "      <td>353</td>\n",
       "    </tr>\n",
       "    <tr>\n",
       "      <th>88</th>\n",
       "      <td>2008-11-03</td>\n",
       "      <td>364</td>\n",
       "    </tr>\n",
       "  </tbody>\n",
       "</table>\n",
       "<p>89 rows × 2 columns</p>\n",
       "</div>"
      ],
      "text/plain": [
       "          day  EV_Obama\n",
       "0  2008-08-07       255\n",
       "1  2008-08-08       311\n",
       "2  2008-08-09       306\n",
       "3  2008-08-10       306\n",
       "4  2008-08-11       311\n",
       "..        ...       ...\n",
       "84 2008-10-30       364\n",
       "85 2008-10-31       364\n",
       "86 2008-11-01       364\n",
       "87 2008-11-02       353\n",
       "88 2008-11-03       364\n",
       "\n",
       "[89 rows x 2 columns]"
      ]
     },
     "execution_count": 31,
     "metadata": {},
     "output_type": "execute_result"
    }
   ],
   "source": [
    "# groupby according to 'day' column and find the sum of Obama's electoral votes in each day\n",
    "filtered_df2 = filtered_df2.groupby('day')['EV_Obama'].sum()\n",
    "filtered_df2 = filtered_df2.reset_index()\n",
    "filtered_df2"
   ]
  },
  {
   "cell_type": "code",
   "execution_count": 32,
   "metadata": {},
   "outputs": [
    {
     "data": {
      "text/plain": [
       "winner\n",
       "McCain    174\n",
       "Obama     364\n",
       "Name: EV, dtype: int64"
      ]
     },
     "execution_count": 32,
     "metadata": {},
     "output_type": "execute_result"
    }
   ],
   "source": [
    "# get the actual election result \n",
    "pres08.groupby('winner')['EV'].sum()"
   ]
  },
  {
   "cell_type": "markdown",
   "metadata": {},
   "source": [
    "Plot the predicted number of electoral votes for the Democratic Party nominee over 90-day period. "
   ]
  },
  {
   "cell_type": "code",
   "execution_count": 33,
   "metadata": {
    "scrolled": true
   },
   "outputs": [
    {
     "data": {
      "text/plain": [
       "Text(2008-10-23 00:00:00, 340, 'actual election result')"
      ]
     },
     "execution_count": 33,
     "metadata": {},
     "output_type": "execute_result"
    },
    {
     "data": {
      "image/png": "[encoded data removed]",
      "text/plain": [
       "<Figure size 720x360 with 1 Axes>"
      ]
     },
     "metadata": {},
     "output_type": "display_data"
    }
   ],
   "source": [
    "import matplotlib.pyplot as plt\n",
    "import seaborn as sns\n",
    "\n",
    "sns.set_theme(style=\"ticks\")\n",
    "\n",
    "# setting the dimensions of the plot\n",
    "fig, ax = plt.subplots(figsize=(10, 5))\n",
    "\n",
    "# create time-series plot\n",
    "sns.lineplot(data = filtered_df2, x = 'day', y = 'EV_Obama', linewidth=2\n",
    "            ).set(title='predictions based on the betting markets change')\n",
    "\n",
    "plt.xticks(rotation = 25)\n",
    "\n",
    "# line indicating actual election result\n",
    "plt.axvline(x=filtered_df2['day'].max(), color='black', linestyle='--', linewidth=1)\n",
    "\n",
    "# actual election result\n",
    "plt.scatter(filtered_df2['day'].max(), 364, color='blue', s=100)\n",
    "\n",
    "# add a text label \n",
    "plt.text(x=filtered_df2['day'].max() - pd.Timedelta(11, unit='D'), y=340, \n",
    "         s='actual election result', color='black')"
   ]
  },
  {
   "cell_type": "markdown",
   "metadata": {},
   "source": [
    "### Question 3"
   ]
  },
  {
   "cell_type": "markdown",
   "metadata": {},
   "source": [
    "Repeat the previous exercise but this time use the seven-day moving-average price, \n",
    "instead of the daily price, for each candidate within a state."
   ]
  },
  {
   "cell_type": "code",
   "execution_count": 34,
   "metadata": {},
   "outputs": [],
   "source": [
    "# filter intrade08 based on the desired time period (we want 90 days-period as the previous exercise)\n",
    "filtered_df3 = intrade08[(intrade08['day'] < x) & (intrade08['day'] > y)]"
   ]
  },
  {
   "cell_type": "code",
   "execution_count": 35,
   "metadata": {},
   "outputs": [
    {
     "name": "stderr",
     "output_type": "stream",
     "text": [
      "/home/sudenur/.local/lib/python3.6/site-packages/ipykernel_launcher.py:2: SettingWithCopyWarning: \n",
      "A value is trying to be set on a copy of a slice from a DataFrame.\n",
      "Try using .loc[row_indexer,col_indexer] = value instead\n",
      "\n",
      "See the caveats in the documentation: https://pandas.pydata.org/pandas-docs/stable/user_guide/indexing.html#returning-a-view-versus-a-copy\n",
      "  \n"
     ]
    }
   ],
   "source": [
    "# find the number of days to the election\n",
    "filtered_df3['days_to_election'] = (x - filtered_df3['day']).dt.days\n",
    "\n",
    "# empty numpy vectors to store closing prices for Obama and McCain\n",
    "Obama_price = np.zeros(90)\n",
    "McCain_price = np.zeros(90)"
   ]
  },
  {
   "cell_type": "code",
   "execution_count": 36,
   "metadata": {},
   "outputs": [],
   "source": [
    "for i in range(len(Obama_price)):\n",
    "    # take all closing prices within the past 7 days\n",
    "    week_data = (filtered_df3[(filtered_df3['days_to_election'] <= (90 - (i + 1) + 7)) \n",
    "                             & (filtered_df3['days_to_election'] >(90 - (i + 1)))])\n",
    "    \n",
    "    # compute the mean of the polls for Obama and McCain\n",
    "    Obama_price[i] = week_data['PriceD'].mean()\n",
    "    McCain_price[i] = week_data['PriceR'].mean()\n",
    "    \n",
    "    # put together a data frame for plotting\n",
    "    price08_weekly_avg = pd.DataFrame({'Obama': Obama_price,\n",
    "                                      'McCain': McCain_price,\n",
    "                                      'days_to_election': np.arange(90, 0, -1)})"
   ]
  },
  {
   "cell_type": "code",
   "execution_count": 37,
   "metadata": {},
   "outputs": [
    {
     "data": {
      "text/html": [
       "<div>\n",
       "<style scoped>\n",
       "    .dataframe tbody tr th:only-of-type {\n",
       "        vertical-align: middle;\n",
       "    }\n",
       "\n",
       "    .dataframe tbody tr th {\n",
       "        vertical-align: top;\n",
       "    }\n",
       "\n",
       "    .dataframe thead th {\n",
       "        text-align: right;\n",
       "    }\n",
       "</style>\n",
       "<table border=\"1\" class=\"dataframe\">\n",
       "  <thead>\n",
       "    <tr style=\"text-align: right;\">\n",
       "      <th></th>\n",
       "      <th>Obama</th>\n",
       "      <th>McCain</th>\n",
       "      <th>days_to_election</th>\n",
       "    </tr>\n",
       "  </thead>\n",
       "  <tbody>\n",
       "    <tr>\n",
       "      <th>0</th>\n",
       "      <td>NaN</td>\n",
       "      <td>NaN</td>\n",
       "      <td>90</td>\n",
       "    </tr>\n",
       "    <tr>\n",
       "      <th>1</th>\n",
       "      <td>49.978431</td>\n",
       "      <td>50.107843</td>\n",
       "      <td>89</td>\n",
       "    </tr>\n",
       "    <tr>\n",
       "      <th>2</th>\n",
       "      <td>50.078431</td>\n",
       "      <td>49.964706</td>\n",
       "      <td>88</td>\n",
       "    </tr>\n",
       "    <tr>\n",
       "      <th>3</th>\n",
       "      <td>49.934641</td>\n",
       "      <td>50.094118</td>\n",
       "      <td>87</td>\n",
       "    </tr>\n",
       "    <tr>\n",
       "      <th>4</th>\n",
       "      <td>49.867647</td>\n",
       "      <td>50.163235</td>\n",
       "      <td>86</td>\n",
       "    </tr>\n",
       "  </tbody>\n",
       "</table>\n",
       "</div>"
      ],
      "text/plain": [
       "       Obama     McCain  days_to_election\n",
       "0        NaN        NaN                90\n",
       "1  49.978431  50.107843                89\n",
       "2  50.078431  49.964706                88\n",
       "3  49.934641  50.094118                87\n",
       "4  49.867647  50.163235                86"
      ]
     },
     "execution_count": 37,
     "metadata": {},
     "output_type": "execute_result"
    }
   ],
   "source": [
    "price08_weekly_avg.head()"
   ]
  },
  {
   "cell_type": "code",
   "execution_count": 38,
   "metadata": {},
   "outputs": [
    {
     "data": {
      "text/html": [
       "<div>\n",
       "<style scoped>\n",
       "    .dataframe tbody tr th:only-of-type {\n",
       "        vertical-align: middle;\n",
       "    }\n",
       "\n",
       "    .dataframe tbody tr th {\n",
       "        vertical-align: top;\n",
       "    }\n",
       "\n",
       "    .dataframe thead th {\n",
       "        text-align: right;\n",
       "    }\n",
       "</style>\n",
       "<table border=\"1\" class=\"dataframe\">\n",
       "  <thead>\n",
       "    <tr style=\"text-align: right;\">\n",
       "      <th></th>\n",
       "      <th>days_to_election</th>\n",
       "      <th>Candidate</th>\n",
       "      <th>price_avg</th>\n",
       "    </tr>\n",
       "  </thead>\n",
       "  <tbody>\n",
       "    <tr>\n",
       "      <th>0</th>\n",
       "      <td>90</td>\n",
       "      <td>Obama</td>\n",
       "      <td>NaN</td>\n",
       "    </tr>\n",
       "    <tr>\n",
       "      <th>1</th>\n",
       "      <td>89</td>\n",
       "      <td>Obama</td>\n",
       "      <td>49.978431</td>\n",
       "    </tr>\n",
       "    <tr>\n",
       "      <th>2</th>\n",
       "      <td>88</td>\n",
       "      <td>Obama</td>\n",
       "      <td>50.078431</td>\n",
       "    </tr>\n",
       "    <tr>\n",
       "      <th>3</th>\n",
       "      <td>87</td>\n",
       "      <td>Obama</td>\n",
       "      <td>49.934641</td>\n",
       "    </tr>\n",
       "    <tr>\n",
       "      <th>4</th>\n",
       "      <td>86</td>\n",
       "      <td>Obama</td>\n",
       "      <td>49.867647</td>\n",
       "    </tr>\n",
       "    <tr>\n",
       "      <th>...</th>\n",
       "      <td>...</td>\n",
       "      <td>...</td>\n",
       "      <td>...</td>\n",
       "    </tr>\n",
       "    <tr>\n",
       "      <th>175</th>\n",
       "      <td>5</td>\n",
       "      <td>McCain</td>\n",
       "      <td>43.763305</td>\n",
       "    </tr>\n",
       "    <tr>\n",
       "      <th>176</th>\n",
       "      <td>4</td>\n",
       "      <td>McCain</td>\n",
       "      <td>43.991036</td>\n",
       "    </tr>\n",
       "    <tr>\n",
       "      <th>177</th>\n",
       "      <td>3</td>\n",
       "      <td>McCain</td>\n",
       "      <td>44.325490</td>\n",
       "    </tr>\n",
       "    <tr>\n",
       "      <th>178</th>\n",
       "      <td>2</td>\n",
       "      <td>McCain</td>\n",
       "      <td>44.484874</td>\n",
       "    </tr>\n",
       "    <tr>\n",
       "      <th>179</th>\n",
       "      <td>1</td>\n",
       "      <td>McCain</td>\n",
       "      <td>44.474510</td>\n",
       "    </tr>\n",
       "  </tbody>\n",
       "</table>\n",
       "<p>180 rows × 3 columns</p>\n",
       "</div>"
      ],
      "text/plain": [
       "     days_to_election Candidate  price_avg\n",
       "0                  90     Obama        NaN\n",
       "1                  89     Obama  49.978431\n",
       "2                  88     Obama  50.078431\n",
       "3                  87     Obama  49.934641\n",
       "4                  86     Obama  49.867647\n",
       "..                ...       ...        ...\n",
       "175                 5    McCain  43.763305\n",
       "176                 4    McCain  43.991036\n",
       "177                 3    McCain  44.325490\n",
       "178                 2    McCain  44.484874\n",
       "179                 1    McCain  44.474510\n",
       "\n",
       "[180 rows x 3 columns]"
      ]
     },
     "execution_count": 38,
     "metadata": {},
     "output_type": "execute_result"
    }
   ],
   "source": [
    "# reshape the data for plotting purposes\n",
    "price08_weekly_avg_reshaped =  price08_weekly_avg.melt(id_vars='days_to_election',\n",
    "                                                      var_name='Candidate',\n",
    "                                                      value_name='price_avg')\n",
    "\n",
    "price08_weekly_avg_reshaped"
   ]
  },
  {
   "cell_type": "code",
   "execution_count": 39,
   "metadata": {},
   "outputs": [
    {
     "data": {
      "text/plain": [
       "Text(10, 59, 'election day')"
      ]
     },
     "execution_count": 39,
     "metadata": {},
     "output_type": "execute_result"
    },
    {
     "data": {
      "image/png": "[encoded data removed]",
      "text/plain": [
       "<Figure size 691.725x360 with 1 Axes>"
      ]
     },
     "metadata": {},
     "output_type": "display_data"
    }
   ],
   "source": [
    "sns.set_theme(style=\"ticks\")\n",
    "\n",
    "# plot going from 90 days to 1 day before the election\n",
    "sns.relplot(\n",
    "    data=price08_weekly_avg_reshaped, x='days_to_election', y='price_avg', \n",
    "    hue='Candidate', kind='line', height=5, aspect=1.7,\n",
    "    palette=['b', 'r']\n",
    ").set(ylim=(40, 60), yticks=range(40, 61, 5), \n",
    "      xlim=(90, -1.5), # small buffer in right limit for aesthetics\n",
    "      xlabel='Days to the election', \n",
    "      ylabel='Session Close prices')\n",
    "\n",
    "# line indicating election day\n",
    "plt.plot([0, 0], [0, 58],color='black', linestyle='--', linewidth=0.5 )\n",
    "plt.text(x=10, y=59, s='election day')\n"
   ]
  },
  {
   "cell_type": "markdown",
   "metadata": {},
   "source": [
    "Next, sum the electoral votes for the states Obama is predicted to win."
   ]
  },
  {
   "cell_type": "code",
   "execution_count": 40,
   "metadata": {},
   "outputs": [
    {
     "data": {
      "text/plain": [
       "0    255\n",
       "1    311\n",
       "2    306\n",
       "3    306\n",
       "4    311\n",
       "Name: EV_Obama, dtype: int64"
      ]
     },
     "execution_count": 40,
     "metadata": {},
     "output_type": "execute_result"
    }
   ],
   "source": [
    "# We had already computed the sum of Obama's electoral votes in each day for the question 2,\n",
    "# for 90-days period.\n",
    "filtered_df2['EV_Obama'].head()"
   ]
  },
  {
   "cell_type": "markdown",
   "metadata": {},
   "source": [
    "### Question 4"
   ]
  },
  {
   "cell_type": "code",
   "execution_count": 30,
   "metadata": {},
   "outputs": [],
   "source": [
    "# Coming soon!"
   ]
  }
 ],
 "metadata": {
  "kernelspec": {
   "display_name": "Python 3",
   "language": "python",
   "name": "python3"
  },
  "language_info": {
   "codemirror_mode": {
    "name": "ipython",
    "version": 3
   },
   "file_extension": ".py",
   "mimetype": "text/x-python",
   "name": "python",
   "nbconvert_exporter": "python",
   "pygments_lexer": "ipython3",
   "version": "3.6.9"
  }
 },
 "nbformat": 4,
 "nbformat_minor": 2
}
