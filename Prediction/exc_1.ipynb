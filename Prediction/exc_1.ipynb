{
 "cells": [
  {
   "cell_type": "markdown",
   "metadata": {},
   "source": [
    "## Exercise 1"
   ]
  },
  {
   "cell_type": "markdown",
   "metadata": {},
   "source": [
    "### Question 1"
   ]
  },
  {
   "cell_type": "code",
   "execution_count": 1,
   "metadata": {},
   "outputs": [],
   "source": [
    "import pandas as pd\n",
    "import numpy as np"
   ]
  },
  {
   "cell_type": "code",
   "execution_count": 2,
   "metadata": {},
   "outputs": [],
   "source": [
    "intrade08 = pd.read_csv('intrade08.csv')\n",
    "intrade12 = pd.read_csv('intrade12.csv')\n",
    "pres08 = pd.read_csv('pres08.csv')\n",
    "pres12 = pd.read_csv('pres12.csv')"
   ]
  },
  {
   "cell_type": "code",
   "execution_count": 3,
   "metadata": {},
   "outputs": [
    {
     "data": {
      "text/html": [
       "<div>\n",
       "<style scoped>\n",
       "    .dataframe tbody tr th:only-of-type {\n",
       "        vertical-align: middle;\n",
       "    }\n",
       "\n",
       "    .dataframe tbody tr th {\n",
       "        vertical-align: top;\n",
       "    }\n",
       "\n",
       "    .dataframe thead th {\n",
       "        text-align: right;\n",
       "    }\n",
       "</style>\n",
       "<table border=\"1\" class=\"dataframe\">\n",
       "  <thead>\n",
       "    <tr style=\"text-align: right;\">\n",
       "      <th></th>\n",
       "      <th>Unnamed: 0</th>\n",
       "      <th>day</th>\n",
       "      <th>statename</th>\n",
       "      <th>PriceD</th>\n",
       "      <th>VolumeD</th>\n",
       "      <th>PriceR</th>\n",
       "      <th>VolumeR</th>\n",
       "      <th>state</th>\n",
       "    </tr>\n",
       "  </thead>\n",
       "  <tbody>\n",
       "    <tr>\n",
       "      <th>0</th>\n",
       "      <td>1</td>\n",
       "      <td>2006-11-12</td>\n",
       "      <td>Alabama</td>\n",
       "      <td>40.0</td>\n",
       "      <td>0</td>\n",
       "      <td>40.0</td>\n",
       "      <td>0</td>\n",
       "      <td>AL</td>\n",
       "    </tr>\n",
       "    <tr>\n",
       "      <th>1</th>\n",
       "      <td>2</td>\n",
       "      <td>2006-11-12</td>\n",
       "      <td>Alaska</td>\n",
       "      <td>40.0</td>\n",
       "      <td>0</td>\n",
       "      <td>40.0</td>\n",
       "      <td>0</td>\n",
       "      <td>AK</td>\n",
       "    </tr>\n",
       "    <tr>\n",
       "      <th>2</th>\n",
       "      <td>3</td>\n",
       "      <td>2006-11-12</td>\n",
       "      <td>Arizona</td>\n",
       "      <td>40.0</td>\n",
       "      <td>0</td>\n",
       "      <td>40.0</td>\n",
       "      <td>0</td>\n",
       "      <td>AZ</td>\n",
       "    </tr>\n",
       "    <tr>\n",
       "      <th>3</th>\n",
       "      <td>4</td>\n",
       "      <td>2006-11-12</td>\n",
       "      <td>Arkansas</td>\n",
       "      <td>40.0</td>\n",
       "      <td>0</td>\n",
       "      <td>40.0</td>\n",
       "      <td>0</td>\n",
       "      <td>AR</td>\n",
       "    </tr>\n",
       "    <tr>\n",
       "      <th>4</th>\n",
       "      <td>5</td>\n",
       "      <td>2006-11-12</td>\n",
       "      <td>California</td>\n",
       "      <td>40.0</td>\n",
       "      <td>0</td>\n",
       "      <td>40.0</td>\n",
       "      <td>0</td>\n",
       "      <td>CA</td>\n",
       "    </tr>\n",
       "  </tbody>\n",
       "</table>\n",
       "</div>"
      ],
      "text/plain": [
       "   Unnamed: 0         day   statename  PriceD  VolumeD  PriceR  VolumeR state\n",
       "0           1  2006-11-12     Alabama    40.0        0    40.0        0    AL\n",
       "1           2  2006-11-12      Alaska    40.0        0    40.0        0    AK\n",
       "2           3  2006-11-12     Arizona    40.0        0    40.0        0    AZ\n",
       "3           4  2006-11-12    Arkansas    40.0        0    40.0        0    AR\n",
       "4           5  2006-11-12  California    40.0        0    40.0        0    CA"
      ]
     },
     "execution_count": 3,
     "metadata": {},
     "output_type": "execute_result"
    }
   ],
   "source": [
    "intrade08.head()"
   ]
  },
  {
   "cell_type": "code",
   "execution_count": 4,
   "metadata": {},
   "outputs": [],
   "source": [
    "# add daily margin of prices to the intrade08 dataset\n",
    "# the sign is + if Obama wins, - if McCain wins\n",
    "\n",
    "intrade08['margin'] = intrade08['PriceD'] - intrade08['PriceR']"
   ]
  },
  {
   "cell_type": "code",
   "execution_count": 5,
   "metadata": {},
   "outputs": [],
   "source": [
    "# use the market prices on the day before the election to predict the 2008 election outcome.\n",
    "\n",
    "# subset the data such that it contains the market information for each state \n",
    "# and candidate on the day before the election only. \n",
    "\n",
    "intrade08['day'] = pd.to_datetime(intrade08['day'], format='%Y-%m-%d') \n",
    "filtered_df = intrade08.loc[(intrade08['day'] == '2008-11-03')]"
   ]
  },
  {
   "cell_type": "code",
   "execution_count": 6,
   "metadata": {},
   "outputs": [
    {
     "data": {
      "text/plain": [
       "array(['2008-11-03T00:00:00.000000000'], dtype='datetime64[ns]')"
      ]
     },
     "execution_count": 6,
     "metadata": {},
     "output_type": "execute_result"
    }
   ],
   "source": [
    "filtered_df = filtered_df.reset_index()\n",
    "filtered_df['day'].unique()"
   ]
  },
  {
   "cell_type": "code",
   "execution_count": 7,
   "metadata": {},
   "outputs": [
    {
     "data": {
      "text/html": [
       "<div>\n",
       "<style scoped>\n",
       "    .dataframe tbody tr th:only-of-type {\n",
       "        vertical-align: middle;\n",
       "    }\n",
       "\n",
       "    .dataframe tbody tr th {\n",
       "        vertical-align: top;\n",
       "    }\n",
       "\n",
       "    .dataframe thead th {\n",
       "        text-align: right;\n",
       "    }\n",
       "</style>\n",
       "<table border=\"1\" class=\"dataframe\">\n",
       "  <thead>\n",
       "    <tr style=\"text-align: right;\">\n",
       "      <th></th>\n",
       "      <th>index</th>\n",
       "      <th>Unnamed: 0</th>\n",
       "      <th>day</th>\n",
       "      <th>statename</th>\n",
       "      <th>PriceD</th>\n",
       "      <th>VolumeD</th>\n",
       "      <th>PriceR</th>\n",
       "      <th>VolumeR</th>\n",
       "      <th>state</th>\n",
       "      <th>margin</th>\n",
       "    </tr>\n",
       "  </thead>\n",
       "  <tbody>\n",
       "    <tr>\n",
       "      <th>0</th>\n",
       "      <td>36770</td>\n",
       "      <td>36771</td>\n",
       "      <td>2008-11-03</td>\n",
       "      <td>Alabama</td>\n",
       "      <td>3.3</td>\n",
       "      <td>0</td>\n",
       "      <td>95.0</td>\n",
       "      <td>90</td>\n",
       "      <td>AL</td>\n",
       "      <td>-91.7</td>\n",
       "    </tr>\n",
       "    <tr>\n",
       "      <th>1</th>\n",
       "      <td>36771</td>\n",
       "      <td>36772</td>\n",
       "      <td>2008-11-03</td>\n",
       "      <td>Alaska</td>\n",
       "      <td>6.0</td>\n",
       "      <td>32</td>\n",
       "      <td>94.0</td>\n",
       "      <td>58</td>\n",
       "      <td>AK</td>\n",
       "      <td>-88.0</td>\n",
       "    </tr>\n",
       "    <tr>\n",
       "      <th>2</th>\n",
       "      <td>36772</td>\n",
       "      <td>36773</td>\n",
       "      <td>2008-11-03</td>\n",
       "      <td>Arizona</td>\n",
       "      <td>18.9</td>\n",
       "      <td>1662</td>\n",
       "      <td>80.2</td>\n",
       "      <td>139</td>\n",
       "      <td>AZ</td>\n",
       "      <td>-61.3</td>\n",
       "    </tr>\n",
       "    <tr>\n",
       "      <th>3</th>\n",
       "      <td>36773</td>\n",
       "      <td>36774</td>\n",
       "      <td>2008-11-03</td>\n",
       "      <td>Arkansas</td>\n",
       "      <td>3.9</td>\n",
       "      <td>11</td>\n",
       "      <td>90.0</td>\n",
       "      <td>5</td>\n",
       "      <td>AR</td>\n",
       "      <td>-86.1</td>\n",
       "    </tr>\n",
       "    <tr>\n",
       "      <th>4</th>\n",
       "      <td>36774</td>\n",
       "      <td>36775</td>\n",
       "      <td>2008-11-03</td>\n",
       "      <td>California</td>\n",
       "      <td>97.9</td>\n",
       "      <td>100</td>\n",
       "      <td>2.1</td>\n",
       "      <td>10</td>\n",
       "      <td>CA</td>\n",
       "      <td>95.8</td>\n",
       "    </tr>\n",
       "  </tbody>\n",
       "</table>\n",
       "</div>"
      ],
      "text/plain": [
       "   index  Unnamed: 0        day   statename  PriceD  VolumeD  PriceR  VolumeR  \\\n",
       "0  36770       36771 2008-11-03     Alabama     3.3        0    95.0       90   \n",
       "1  36771       36772 2008-11-03      Alaska     6.0       32    94.0       58   \n",
       "2  36772       36773 2008-11-03     Arizona    18.9     1662    80.2      139   \n",
       "3  36773       36774 2008-11-03    Arkansas     3.9       11    90.0        5   \n",
       "4  36774       36775 2008-11-03  California    97.9      100     2.1       10   \n",
       "\n",
       "  state  margin  \n",
       "0    AL   -91.7  \n",
       "1    AK   -88.0  \n",
       "2    AZ   -61.3  \n",
       "3    AR   -86.1  \n",
       "4    CA    95.8  "
      ]
     },
     "execution_count": 7,
     "metadata": {},
     "output_type": "execute_result"
    }
   ],
   "source": [
    "filtered_df.head()"
   ]
  },
  {
   "cell_type": "code",
   "execution_count": 8,
   "metadata": {},
   "outputs": [
    {
     "data": {
      "text/plain": [
       "0"
      ]
     },
     "execution_count": 8,
     "metadata": {},
     "output_type": "execute_result"
    }
   ],
   "source": [
    "# Compare the closing prices for the two candidates in a given state \n",
    "# and classify a candidate whose contract has a higher price as the predicted winner of that state.\n",
    "\n",
    "# Check if there is any equal prices\n",
    "len(filtered_df[filtered_df['PriceD'] == filtered_df['PriceR']])\n",
    "\n",
    "# There is none. So we can continue without considering such a situation."
   ]
  },
  {
   "cell_type": "code",
   "execution_count": 9,
   "metadata": {},
   "outputs": [],
   "source": [
    "# add a 'winner' column to filtered_df\n",
    " \n",
    "conditions = [filtered_df['margin'] > 0,\n",
    "             filtered_df['margin'] < 0]\n",
    "choices = ['Obama', 'McCain']\n",
    "\n",
    "filtered_df['winner'] = np.select(conditions, choices)"
   ]
  },
  {
   "cell_type": "code",
   "execution_count": 10,
   "metadata": {},
   "outputs": [
    {
     "data": {
      "text/html": [
       "<div>\n",
       "<style scoped>\n",
       "    .dataframe tbody tr th:only-of-type {\n",
       "        vertical-align: middle;\n",
       "    }\n",
       "\n",
       "    .dataframe tbody tr th {\n",
       "        vertical-align: top;\n",
       "    }\n",
       "\n",
       "    .dataframe thead th {\n",
       "        text-align: right;\n",
       "    }\n",
       "</style>\n",
       "<table border=\"1\" class=\"dataframe\">\n",
       "  <thead>\n",
       "    <tr style=\"text-align: right;\">\n",
       "      <th></th>\n",
       "      <th>index</th>\n",
       "      <th>Unnamed: 0</th>\n",
       "      <th>day</th>\n",
       "      <th>statename</th>\n",
       "      <th>PriceD</th>\n",
       "      <th>VolumeD</th>\n",
       "      <th>PriceR</th>\n",
       "      <th>VolumeR</th>\n",
       "      <th>state</th>\n",
       "      <th>margin</th>\n",
       "      <th>winner</th>\n",
       "    </tr>\n",
       "  </thead>\n",
       "  <tbody>\n",
       "    <tr>\n",
       "      <th>0</th>\n",
       "      <td>36770</td>\n",
       "      <td>36771</td>\n",
       "      <td>2008-11-03</td>\n",
       "      <td>Alabama</td>\n",
       "      <td>3.3</td>\n",
       "      <td>0</td>\n",
       "      <td>95.0</td>\n",
       "      <td>90</td>\n",
       "      <td>AL</td>\n",
       "      <td>-91.7</td>\n",
       "      <td>McCain</td>\n",
       "    </tr>\n",
       "    <tr>\n",
       "      <th>1</th>\n",
       "      <td>36771</td>\n",
       "      <td>36772</td>\n",
       "      <td>2008-11-03</td>\n",
       "      <td>Alaska</td>\n",
       "      <td>6.0</td>\n",
       "      <td>32</td>\n",
       "      <td>94.0</td>\n",
       "      <td>58</td>\n",
       "      <td>AK</td>\n",
       "      <td>-88.0</td>\n",
       "      <td>McCain</td>\n",
       "    </tr>\n",
       "    <tr>\n",
       "      <th>2</th>\n",
       "      <td>36772</td>\n",
       "      <td>36773</td>\n",
       "      <td>2008-11-03</td>\n",
       "      <td>Arizona</td>\n",
       "      <td>18.9</td>\n",
       "      <td>1662</td>\n",
       "      <td>80.2</td>\n",
       "      <td>139</td>\n",
       "      <td>AZ</td>\n",
       "      <td>-61.3</td>\n",
       "      <td>McCain</td>\n",
       "    </tr>\n",
       "    <tr>\n",
       "      <th>3</th>\n",
       "      <td>36773</td>\n",
       "      <td>36774</td>\n",
       "      <td>2008-11-03</td>\n",
       "      <td>Arkansas</td>\n",
       "      <td>3.9</td>\n",
       "      <td>11</td>\n",
       "      <td>90.0</td>\n",
       "      <td>5</td>\n",
       "      <td>AR</td>\n",
       "      <td>-86.1</td>\n",
       "      <td>McCain</td>\n",
       "    </tr>\n",
       "    <tr>\n",
       "      <th>4</th>\n",
       "      <td>36774</td>\n",
       "      <td>36775</td>\n",
       "      <td>2008-11-03</td>\n",
       "      <td>California</td>\n",
       "      <td>97.9</td>\n",
       "      <td>100</td>\n",
       "      <td>2.1</td>\n",
       "      <td>10</td>\n",
       "      <td>CA</td>\n",
       "      <td>95.8</td>\n",
       "      <td>Obama</td>\n",
       "    </tr>\n",
       "  </tbody>\n",
       "</table>\n",
       "</div>"
      ],
      "text/plain": [
       "   index  Unnamed: 0        day   statename  PriceD  VolumeD  PriceR  VolumeR  \\\n",
       "0  36770       36771 2008-11-03     Alabama     3.3        0    95.0       90   \n",
       "1  36771       36772 2008-11-03      Alaska     6.0       32    94.0       58   \n",
       "2  36772       36773 2008-11-03     Arizona    18.9     1662    80.2      139   \n",
       "3  36773       36774 2008-11-03    Arkansas     3.9       11    90.0        5   \n",
       "4  36774       36775 2008-11-03  California    97.9      100     2.1       10   \n",
       "\n",
       "  state  margin  winner  \n",
       "0    AL   -91.7  McCain  \n",
       "1    AK   -88.0  McCain  \n",
       "2    AZ   -61.3  McCain  \n",
       "3    AR   -86.1  McCain  \n",
       "4    CA    95.8   Obama  "
      ]
     },
     "execution_count": 10,
     "metadata": {},
     "output_type": "execute_result"
    }
   ],
   "source": [
    "filtered_df.head()"
   ]
  },
  {
   "cell_type": "code",
   "execution_count": 11,
   "metadata": {},
   "outputs": [],
   "source": [
    "# add a 'winner' column to pres08 but this time with another method\n",
    " \n",
    "pres08['winner'] = np.where(pres08['Obama'] > pres08['McCain'], 'Obama', 'McCain')"
   ]
  },
  {
   "cell_type": "code",
   "execution_count": 12,
   "metadata": {},
   "outputs": [
    {
     "data": {
      "text/html": [
       "<div>\n",
       "<style scoped>\n",
       "    .dataframe tbody tr th:only-of-type {\n",
       "        vertical-align: middle;\n",
       "    }\n",
       "\n",
       "    .dataframe tbody tr th {\n",
       "        vertical-align: top;\n",
       "    }\n",
       "\n",
       "    .dataframe thead th {\n",
       "        text-align: right;\n",
       "    }\n",
       "</style>\n",
       "<table border=\"1\" class=\"dataframe\">\n",
       "  <thead>\n",
       "    <tr style=\"text-align: right;\">\n",
       "      <th></th>\n",
       "      <th>state.name</th>\n",
       "      <th>state</th>\n",
       "      <th>Obama</th>\n",
       "      <th>McCain</th>\n",
       "      <th>EV</th>\n",
       "      <th>winner</th>\n",
       "    </tr>\n",
       "  </thead>\n",
       "  <tbody>\n",
       "    <tr>\n",
       "      <th>0</th>\n",
       "      <td>Alabama</td>\n",
       "      <td>AL</td>\n",
       "      <td>39</td>\n",
       "      <td>60</td>\n",
       "      <td>9</td>\n",
       "      <td>McCain</td>\n",
       "    </tr>\n",
       "    <tr>\n",
       "      <th>1</th>\n",
       "      <td>Alaska</td>\n",
       "      <td>AK</td>\n",
       "      <td>38</td>\n",
       "      <td>59</td>\n",
       "      <td>3</td>\n",
       "      <td>McCain</td>\n",
       "    </tr>\n",
       "    <tr>\n",
       "      <th>2</th>\n",
       "      <td>Arizona</td>\n",
       "      <td>AZ</td>\n",
       "      <td>45</td>\n",
       "      <td>54</td>\n",
       "      <td>10</td>\n",
       "      <td>McCain</td>\n",
       "    </tr>\n",
       "    <tr>\n",
       "      <th>3</th>\n",
       "      <td>Arkansas</td>\n",
       "      <td>AR</td>\n",
       "      <td>39</td>\n",
       "      <td>59</td>\n",
       "      <td>6</td>\n",
       "      <td>McCain</td>\n",
       "    </tr>\n",
       "    <tr>\n",
       "      <th>4</th>\n",
       "      <td>California</td>\n",
       "      <td>CA</td>\n",
       "      <td>61</td>\n",
       "      <td>37</td>\n",
       "      <td>55</td>\n",
       "      <td>Obama</td>\n",
       "    </tr>\n",
       "  </tbody>\n",
       "</table>\n",
       "</div>"
      ],
      "text/plain": [
       "   state.name state  Obama  McCain  EV  winner\n",
       "0     Alabama    AL     39      60   9  McCain\n",
       "1      Alaska    AK     38      59   3  McCain\n",
       "2     Arizona    AZ     45      54  10  McCain\n",
       "3    Arkansas    AR     39      59   6  McCain\n",
       "4  California    CA     61      37  55   Obama"
      ]
     },
     "execution_count": 12,
     "metadata": {},
     "output_type": "execute_result"
    }
   ],
   "source": [
    "pres08.head()"
   ]
  },
  {
   "cell_type": "code",
   "execution_count": 13,
   "metadata": {},
   "outputs": [
    {
     "data": {
      "text/plain": [
       "0      True\n",
       "1      True\n",
       "2      True\n",
       "3      True\n",
       "4      True\n",
       "5      True\n",
       "6      True\n",
       "7     False\n",
       "8     False\n",
       "9      True\n",
       "10     True\n",
       "11     True\n",
       "12     True\n",
       "13     True\n",
       "14     True\n",
       "15     True\n",
       "16     True\n",
       "17     True\n",
       "18     True\n",
       "19     True\n",
       "20     True\n",
       "21     True\n",
       "22     True\n",
       "23     True\n",
       "24     True\n",
       "25     True\n",
       "26     True\n",
       "27     True\n",
       "28     True\n",
       "29     True\n",
       "30     True\n",
       "31     True\n",
       "32     True\n",
       "33     True\n",
       "34     True\n",
       "35     True\n",
       "36     True\n",
       "37     True\n",
       "38     True\n",
       "39     True\n",
       "40     True\n",
       "41     True\n",
       "42     True\n",
       "43     True\n",
       "44     True\n",
       "45     True\n",
       "46     True\n",
       "47     True\n",
       "48     True\n",
       "49     True\n",
       "50     True\n",
       "dtype: bool"
      ]
     },
     "execution_count": 13,
     "metadata": {},
     "output_type": "execute_result"
    }
   ],
   "source": [
    "# set a common index for the both dataframes\n",
    "# but first check if the columns we are going to set as indexes match\n",
    "\n",
    "filtered_df['statename'] == pres08['state.name']"
   ]
  },
  {
   "cell_type": "code",
   "execution_count": 14,
   "metadata": {},
   "outputs": [],
   "source": [
    "# they don't match. The 8th and 9th rows are problematic.\n",
    "# if we look closer, abbreviation 'D.C' is used for the District of Columbia in pres08\n",
    "\n",
    "pres08.iloc[7,0] = 'District of Columbia'\n"
   ]
  },
  {
   "cell_type": "code",
   "execution_count": 15,
   "metadata": {},
   "outputs": [],
   "source": [
    "filtered_df.set_index(filtered_df.statename, inplace=True)\n",
    "pres08.set_index(pres08['state.name'], inplace=True)"
   ]
  },
  {
   "cell_type": "code",
   "execution_count": 16,
   "metadata": {},
   "outputs": [
    {
     "data": {
      "text/plain": [
       "array([ True,  True,  True,  True,  True,  True,  True, False, False,\n",
       "        True,  True,  True,  True,  True,  True,  True,  True,  True,\n",
       "        True,  True,  True,  True,  True,  True,  True,  True,  True,\n",
       "        True,  True,  True,  True,  True,  True,  True,  True,  True,\n",
       "        True,  True,  True,  True,  True,  True,  True,  True,  True,\n",
       "        True,  True,  True,  True,  True,  True])"
      ]
     },
     "execution_count": 16,
     "metadata": {},
     "output_type": "execute_result"
    }
   ],
   "source": [
    "filtered_df.index == pres08.index"
   ]
  },
  {
   "cell_type": "code",
   "execution_count": 17,
   "metadata": {},
   "outputs": [],
   "source": [
    "filtered_df.sort_index(inplace=True)\n",
    "pres08.sort_index(inplace=True)\n"
   ]
  },
  {
   "cell_type": "code",
   "execution_count": 18,
   "metadata": {},
   "outputs": [
    {
     "data": {
      "text/plain": [
       "array([ True,  True,  True,  True,  True,  True,  True,  True,  True,\n",
       "        True,  True,  True,  True,  True,  True,  True,  True,  True,\n",
       "        True,  True,  True,  True,  True,  True,  True,  True,  True,\n",
       "        True,  True,  True,  True,  True,  True,  True,  True,  True,\n",
       "        True,  True,  True,  True,  True,  True,  True,  True,  True,\n",
       "        True,  True,  True,  True,  True,  True])"
      ]
     },
     "execution_count": 18,
     "metadata": {},
     "output_type": "execute_result"
    }
   ],
   "source": [
    "filtered_df.index == pres08.index"
   ]
  },
  {
   "cell_type": "code",
   "execution_count": 19,
   "metadata": {},
   "outputs": [
    {
     "data": {
      "text/html": [
       "<div>\n",
       "<style scoped>\n",
       "    .dataframe tbody tr th:only-of-type {\n",
       "        vertical-align: middle;\n",
       "    }\n",
       "\n",
       "    .dataframe tbody tr th {\n",
       "        vertical-align: top;\n",
       "    }\n",
       "\n",
       "    .dataframe thead th {\n",
       "        text-align: right;\n",
       "    }\n",
       "</style>\n",
       "<table border=\"1\" class=\"dataframe\">\n",
       "  <thead>\n",
       "    <tr style=\"text-align: right;\">\n",
       "      <th></th>\n",
       "      <th>index</th>\n",
       "      <th>Unnamed: 0</th>\n",
       "      <th>day</th>\n",
       "      <th>statename</th>\n",
       "      <th>PriceD</th>\n",
       "      <th>VolumeD</th>\n",
       "      <th>PriceR</th>\n",
       "      <th>VolumeR</th>\n",
       "      <th>state</th>\n",
       "      <th>margin</th>\n",
       "      <th>winner</th>\n",
       "    </tr>\n",
       "    <tr>\n",
       "      <th>statename</th>\n",
       "      <th></th>\n",
       "      <th></th>\n",
       "      <th></th>\n",
       "      <th></th>\n",
       "      <th></th>\n",
       "      <th></th>\n",
       "      <th></th>\n",
       "      <th></th>\n",
       "      <th></th>\n",
       "      <th></th>\n",
       "      <th></th>\n",
       "    </tr>\n",
       "  </thead>\n",
       "  <tbody>\n",
       "    <tr>\n",
       "      <th>Indiana</th>\n",
       "      <td>36784</td>\n",
       "      <td>36785</td>\n",
       "      <td>2008-11-03</td>\n",
       "      <td>Indiana</td>\n",
       "      <td>39.0</td>\n",
       "      <td>945</td>\n",
       "      <td>62.2</td>\n",
       "      <td>641</td>\n",
       "      <td>IN</td>\n",
       "      <td>-23.2</td>\n",
       "      <td>McCain</td>\n",
       "    </tr>\n",
       "    <tr>\n",
       "      <th>Missouri</th>\n",
       "      <td>36795</td>\n",
       "      <td>36796</td>\n",
       "      <td>2008-11-03</td>\n",
       "      <td>Missouri</td>\n",
       "      <td>55.6</td>\n",
       "      <td>579</td>\n",
       "      <td>48.0</td>\n",
       "      <td>170</td>\n",
       "      <td>MO</td>\n",
       "      <td>7.6</td>\n",
       "      <td>Obama</td>\n",
       "    </tr>\n",
       "  </tbody>\n",
       "</table>\n",
       "</div>"
      ],
      "text/plain": [
       "           index  Unnamed: 0        day statename  PriceD  VolumeD  PriceR  \\\n",
       "statename                                                                    \n",
       "Indiana    36784       36785 2008-11-03   Indiana    39.0      945    62.2   \n",
       "Missouri   36795       36796 2008-11-03  Missouri    55.6      579    48.0   \n",
       "\n",
       "           VolumeR state  margin  winner  \n",
       "statename                                 \n",
       "Indiana        641    IN   -23.2  McCain  \n",
       "Missouri       170    MO     7.6   Obama  "
      ]
     },
     "execution_count": 19,
     "metadata": {},
     "output_type": "execute_result"
    }
   ],
   "source": [
    "# which states were missclassified?\n",
    "filtered_df.loc[(pres08['winner'] != filtered_df['winner'])]"
   ]
  },
  {
   "cell_type": "markdown",
   "metadata": {},
   "source": [
    "### Question 2"
   ]
  },
  {
   "cell_type": "code",
   "execution_count": 20,
   "metadata": {},
   "outputs": [],
   "source": [
    "# How do the predictions based on the betting markets change over 90 days period of time?\n",
    "\n",
    "filtered_df2 = intrade08.copy()\n",
    "filtered_df2['day'] = pd.to_datetime(filtered_df2['day']) "
   ]
  },
  {
   "cell_type": "code",
   "execution_count": 21,
   "metadata": {},
   "outputs": [],
   "source": [
    "# My first approach to figuring out the date which is 90 days before the election date. \n",
    "# And it is a really cool one, and it works. But another approach below is run for this notebook.\n",
    "\n",
    "# filtered_df2['90_days'] = np.where(filtered_df2['day'] + pd.Timedelta(3, unit='D') <  '2008-11-03', \"90 days overdue\", \"OK\")"
   ]
  },
  {
   "cell_type": "code",
   "execution_count": 22,
   "metadata": {},
   "outputs": [
    {
     "data": {
      "text/plain": [
       "datetime.timedelta(90)"
      ]
     },
     "execution_count": 22,
     "metadata": {},
     "output_type": "execute_result"
    }
   ],
   "source": [
    "# The second approach to figuring out the date which is 90 days before the election date\n",
    "\n",
    "# import the datetime module\n",
    "from datetime import datetime\n",
    "x = datetime.strptime('2008-11-04', '%Y-%m-%d')\n",
    "y = datetime.strptime('2008/8/6', '%Y/%m/%d')\n",
    "\n",
    "# number of days between 2008/8/6 and 11/4/2008\n",
    "x-y # a timedelta object"
   ]
  },
  {
   "cell_type": "code",
   "execution_count": 23,
   "metadata": {},
   "outputs": [],
   "source": [
    "# filter filtered_df2 further based on the desired time period\n",
    "\n",
    "filtered_df2 = filtered_df2[(filtered_df2['day'] < x) & (filtered_df2['day'] > y)]\n",
    "\n",
    "# Groupby according to 'day' column and find the sum of Obama's votes in each day\n",
    "filtered_df2 = filtered_df2.groupby('day')['PriceD'].sum()"
   ]
  },
  {
   "cell_type": "code",
   "execution_count": 24,
   "metadata": {},
   "outputs": [],
   "source": [
    "filtered_df2 = filtered_df2.reset_index()"
   ]
  },
  {
   "cell_type": "code",
   "execution_count": 25,
   "metadata": {},
   "outputs": [],
   "source": [
    "# getting the actual election result \n",
    "result = pres08['Obama'].sum()"
   ]
  },
  {
   "cell_type": "code",
   "execution_count": 28,
   "metadata": {
    "scrolled": true
   },
   "outputs": [
    {
     "data": {
      "text/plain": [
       "Text(2008-10-23 00:00:00, 2650, 'actual election result')"
      ]
     },
     "execution_count": 28,
     "metadata": {},
     "output_type": "execute_result"
    },
    {
     "data": {
      "image/png": "[encoded data removed]",
      "text/plain": [
       "<Figure size 720x360 with 1 Axes>"
      ]
     },
     "metadata": {},
     "output_type": "display_data"
    }
   ],
   "source": [
    "# Plot the predicted number of electoral votes for the Democratic Party nominee over 90-day period. \n",
    "\n",
    "import matplotlib.pyplot as plt\n",
    "import seaborn as sns\n",
    "\n",
    "sns.set_theme(style=\"ticks\")\n",
    "\n",
    "# setting the dimensions of the plot\n",
    "fig, ax = plt.subplots(figsize=(10, 5))\n",
    "\n",
    "# create time-series plot\n",
    "sns.lineplot(data = filtered_df2, x = 'day', y = 'PriceD', linewidth=2\n",
    "            ).set(title='predictions based on the betting markets change')\n",
    "\n",
    "plt.xticks(rotation = 25)\n",
    "\n",
    "# line indicating actual election result\n",
    "plt.axvline(x=filtered_df2['day'].max(), color='black', linestyle='--', linewidth=1)\n",
    "\n",
    "# actual election result\n",
    "plt.scatter(filtered_df2['day'].max(), result, color='blue', s=100)\n",
    "\n",
    "# add a text label \n",
    "plt.text(x=filtered_df2['day'].max() - pd.Timedelta(11, unit='D'), y=2650, \n",
    "         s='actual election result', color='black')"
   ]
  },
  {
   "cell_type": "markdown",
   "metadata": {},
   "source": [
    "### Question 3"
   ]
  },
  {
   "cell_type": "code",
   "execution_count": 27,
   "metadata": {},
   "outputs": [],
   "source": [
    "# Coming soon!"
   ]
  }
 ],
 "metadata": {
  "kernelspec": {
   "display_name": "Python 3",
   "language": "python",
   "name": "python3"
  },
  "language_info": {
   "codemirror_mode": {
    "name": "ipython",
    "version": 3
   },
   "file_extension": ".py",
   "mimetype": "text/x-python",
   "name": "python",
   "nbconvert_exporter": "python",
   "pygments_lexer": "ipython3",
   "version": "3.6.9"
  }
 },
 "nbformat": 4,
 "nbformat_minor": 2
}
